{
 "cells": [
  {
   "cell_type": "code",
   "execution_count": 1,
   "metadata": {},
   "outputs": [
    {
     "name": "stdout",
     "output_type": "stream",
     "text": [
      "Requirement already satisfied: wptools==0.4.7 in /Users/naraeim/.local/lib/python3.9/site-packages (0.4.7)\r\n",
      "Requirement already satisfied: lxml in /opt/anaconda3/lib/python3.9/site-packages (from wptools==0.4.7) (4.6.3)\r\n",
      "Requirement already satisfied: certifi in /opt/anaconda3/lib/python3.9/site-packages (from wptools==0.4.7) (2021.10.8)\r\n",
      "Requirement already satisfied: pycurl in /opt/anaconda3/lib/python3.9/site-packages (from wptools==0.4.7) (7.44.1)\r\n",
      "Requirement already satisfied: html2text in /Users/naraeim/.local/lib/python3.9/site-packages (from wptools==0.4.7) (2020.1.16)\r\n"
     ]
    }
   ],
   "source": [
    "# Install wptools (and restart the kernel)\n",
    "!pip install --user wptools==0.4.7"
   ]
  },
  {
   "cell_type": "code",
   "execution_count": 2,
   "metadata": {},
   "outputs": [
    {
     "name": "stdout",
     "output_type": "stream",
     "text": [
      "0.4.7\n"
     ]
    }
   ],
   "source": [
    "# Read the library\n",
    "import wptools\n",
    "\n",
    "# Check the current version of wptools\n",
    "print(wptools.__version__)"
   ]
  },
  {
   "cell_type": "code",
   "execution_count": 3,
   "metadata": {},
   "outputs": [
    {
     "name": "stderr",
     "output_type": "stream",
     "text": [
      "en.wikipedia.org (query) E.T._the_Extra-Terrestrial\n",
      "API warning: {'extracts': {'warnings': 'HTML may be malformed and/or unbalanced and may omit inline images. Use at your own risk. Known problems are listed at https://www.mediawiki.org/wiki/Special:MyLanguage/Extension:TextExtracts#Caveats.'}}\n",
      "en.wikipedia.org (parse) 73441\n",
      "www.wikidata.org (wikidata) Q11621\n",
      "www.wikidata.org (labels) P3844|P135|Q1315008|P345|Q652644|Q52806...\n",
      "www.wikidata.org (labels) Q105708928|P2142|P750|P1265|P3141|Q5887...\n",
      "www.wikidata.org (labels) Q4834543|P725|Q830079|P2061|P3212|Q1595...\n",
      "www.wikidata.org (labels) P272|Q461742|Q1966965|Q104144383|P1970|...\n",
      "www.wikidata.org (labels) Q471839|Q981030|P2704|P3417|P1040|P1981...\n",
      "en.wikipedia.org (restbase) /page/summary/E.T._the_Extra-Terrestrial\n",
      "en.wikipedia.org (imageinfo) File:ET logo 3.svg|File:E t the extr...\n",
      "E.T. the Extra-Terrestrial (en) data\n",
      "{\n",
      "  aliases: <list(2)> E.T., ET\n",
      "  claims: <dict(127)> P1562, P57, P272, P345, P31, P161, P373, P48...\n",
      "  description: 1982 American film\n",
      "  exhtml: <str(485)> <p><i><b>E.T. the Extra-Terrestrial</b></i> i...\n",
      "  exrest: <str(464)> E.T. the Extra-Terrestrial is a 1982 American...\n",
      "  extext: <str(2194)> _**E.T. the Extra-Terrestrial**_ (also known...\n",
      "  extract: <str(2314)> <p class=\"mw-empty-elt\"></p><p><i><b>E.T. t...\n",
      "  image: <list(4)> {'kind': 'parse-image', 'file': 'File:E t the e...\n",
      "  infobox: <dict(18)> name, image, caption, director, producers, w...\n",
      "  iwlinks: <list(6)> https://commons.wikimedia.org/wiki/Category:E...\n",
      "  label: E.T. the Extra-Terrestrial\n",
      "  labels: <dict(246)> P3844, P135, Q1315008, P345, Q652644, Q52806...\n",
      "  length: 99,774\n",
      "  links: <list(500)> 12 Angry Men (1957 film), 12 Monkeys, 12 Year...\n",
      "  modified: <dict(2)> page, wikidata\n",
      "  pageid: 73441\n",
      "  parsetree: <str(122055)> <root><template lineStart=\"1\"><title>Re...\n",
      "  random: Storyteller (Buffy the Vampire Slayer)\n",
      "  redirects: <list(37)> {'pageid': 177061, 'ns': 0, 'title': 'E.T....\n",
      "  requests: <list(10)> query, parse, wikidata, labels, labels, lab...\n",
      "  title: E.T._the_Extra-Terrestrial\n",
      "  url: https://en.wikipedia.org/wiki/E.T._the_Extra-Terrestrial\n",
      "  url_raw: <str(67)> https://en.wikipedia.org/wiki/E.T._the_Extra-...\n",
      "  watchers: 350\n",
      "  what: film\n",
      "  wikibase: Q11621\n",
      "  wikidata: <dict(127)> AllMovie title ID (P1562), director (P57),...\n",
      "  wikidata_url: https://www.wikidata.org/wiki/Q11621\n",
      "  wikitext: <str(99433)> {{Redirect|E.T.|other uses|ET (disambigua...\n",
      "}\n"
     ]
    }
   ],
   "source": [
    "# Your code here: get the E.T. page object\n",
    "# This cell make take a few seconds to run\n",
    "page = wptools.page('E.T._the_Extra-Terrestrial').get()"
   ]
  },
  {
   "cell_type": "code",
   "execution_count": 4,
   "metadata": {},
   "outputs": [
    {
     "data": {
      "text/plain": [
       "[{'kind': 'parse-image',\n",
       "  'file': 'File:E t the extra terrestrial ver3.jpg',\n",
       "  'orig': 'E t the extra terrestrial ver3.jpg',\n",
       "  'timestamp': '2016-06-04T10:30:46Z',\n",
       "  'size': 83073,\n",
       "  'width': 253,\n",
       "  'height': 394,\n",
       "  'url': 'https://upload.wikimedia.org/wikipedia/en/6/66/E_t_the_extra_terrestrial_ver3.jpg',\n",
       "  'descriptionurl': 'https://en.wikipedia.org/wiki/File:E_t_the_extra_terrestrial_ver3.jpg',\n",
       "  'descriptionshorturl': 'https://en.wikipedia.org/w/index.php?curid=7419503',\n",
       "  'title': 'File:E t the extra terrestrial ver3.jpg'},\n",
       " {'file': 'File:ET logo 3.svg',\n",
       "  'kind': 'wikidata-image',\n",
       "  'orig': 'ET logo 3.svg',\n",
       "  'timestamp': '2011-05-14T20:38:17Z',\n",
       "  'size': 77290,\n",
       "  'width': 512,\n",
       "  'height': 380,\n",
       "  'url': 'https://upload.wikimedia.org/wikipedia/commons/8/85/ET_logo_3.svg',\n",
       "  'descriptionurl': 'https://commons.wikimedia.org/wiki/File:ET_logo_3.svg',\n",
       "  'descriptionshorturl': 'https://commons.wikimedia.org/w/index.php?curid=14138952',\n",
       "  'title': 'File:ET logo 3.svg'},\n",
       " {'kind': 'restbase-original',\n",
       "  'width': 253,\n",
       "  'height': 394,\n",
       "  'url': 'https://upload.wikimedia.org/wikipedia/en/6/66/E_t_the_extra_terrestrial_ver3.jpg',\n",
       "  'file': 'File:E t the extra terrestrial ver3.jpg',\n",
       "  'orig': 'E_t_the_extra_terrestrial_ver3.jpg'},\n",
       " {'kind': 'restbase-thumb',\n",
       "  'width': 205,\n",
       "  'height': 320,\n",
       "  'url': 'https://upload.wikimedia.org/wikipedia/en/thumb/6/66/E_t_the_extra_terrestrial_ver3.jpg/205px-E_t_the_extra_terrestrial_ver3.jpg',\n",
       "  'file': 'File:205px-E t the extra terrestrial ver3.jpg',\n",
       "  'orig': '205px-E_t_the_extra_terrestrial_ver3.jpg'}]"
      ]
     },
     "execution_count": 4,
     "metadata": {},
     "output_type": "execute_result"
    }
   ],
   "source": [
    "# Accessing the image attribute will return the images for this page\n",
    "page.data['image']"
   ]
  },
  {
   "cell_type": "code",
   "execution_count": null,
   "metadata": {},
   "outputs": [],
   "source": []
  }
 ],
 "metadata": {
  "kernelspec": {
   "display_name": "Python 3 (ipykernel)",
   "language": "python",
   "name": "python3"
  },
  "language_info": {
   "codemirror_mode": {
    "name": "ipython",
    "version": 3
   },
   "file_extension": ".py",
   "mimetype": "text/x-python",
   "name": "python",
   "nbconvert_exporter": "python",
   "pygments_lexer": "ipython3",
   "version": "3.9.7"
  }
 },
 "nbformat": 4,
 "nbformat_minor": 2
}
