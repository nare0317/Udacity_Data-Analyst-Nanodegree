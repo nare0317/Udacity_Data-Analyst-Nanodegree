{
 "cells": [
  {
   "cell_type": "markdown",
   "metadata": {},
   "source": [
    "# Analyze A/B Test Results \n",
    "\n",
    "\n",
    "- [개요](#intro)\n",
    "- [Part I - 확률](#probability)\n",
    "- [Part II - A/B 테스트](#ab_test)\n",
    "- [Part III - 회귀분석](#regression)\n",
    "- [결론](#conclusions)\n",
    "\n",
    "\n",
    "<a id='intro'></a>\n",
    "## 개요\n",
    "\n",
    "이 프로젝트에서는 이커머스 웹사이트의 A/B 테스트의 결과를 이해하기 위해 데이터 분석 과정을 진행할 것이다.     \n",
    "이 노트북을 통해서 회사가 아래 선택지 중 어떤 선택을 해야할지 알아보자. \n",
    "- 새로운 웹페이지를 시행, \n",
    "- 기존 웹페이지를 유지,\n",
    "- 결정을 내리기 위해 더 오래 실험을 진행 \n",
    "\n",
    "<a id='probability'></a>\n",
    "## Part I - 확률 (Probability)\n",
    "\n",
    "먼저, 라이브러리를 import 하자. "
   ]
  },
  {
   "cell_type": "code",
   "execution_count": 156,
   "metadata": {},
   "outputs": [],
   "source": [
    "import pandas as pd\n",
    "import numpy as np\n",
    "import random\n",
    "import matplotlib.pyplot as plt\n",
    "import seaborn as sns\n",
    "\n",
    "# matplotlib 한글 폰트설정\n",
    "from matplotlib import rc  \n",
    "rc('font', family='AppleGothic') \n",
    "plt.rcParams['axes.unicode_minus'] = False\n",
    "\n",
    "%matplotlib inline\n",
    "\n",
    "#setting the seed\n",
    "random.seed(42)"
   ]
  },
  {
   "cell_type": "markdown",
   "metadata": {},
   "source": [
    "### 1.1\n",
    "이제 `ab_data.csv` 데이터를 읽어와 `df`에 저장할 것이다. 아래 표는 데이터를 설명한 것으로, 총 5개의 컬럼이 있다. \n",
    " \n",
    " \n",
    "<center>\n",
    "\n",
    "|컬럼|목적|유효값|\n",
    "| ------------- |:-------------| -----:|\n",
    "|user_id|사용자 ID의 고유값|Int64 values|\n",
    "|timestamp|사용자가 웹페이지를 방문한 시각|-|\n",
    "|group|이 A/B 테스트에서, 사용자는 두개의 큰 그룹으로 나눠져있다.<br> `control` 그룹 사용자에게는 `old_page`가 보여지고, `treatment` 그룹 사용자에게는 `new_page`가 보여지게 된다. <br>그러나, 원본 데이터에는 `control` 그룹 사용자인데 `new_page` 가 보여지는 등 **일부 부정확한 데이터** 가 존재한다.|`['control', 'treatment']`|\n",
    "|landing_page|사용자가 방문한 페이지를 나타낸다.|`['old_page', 'new_page']`|\n",
    "|converted|사용자가 최종적으로 회사의 상품을 구매하였는지 여부를 나타낸다. 여기서, `1`은 그 사용자가 상품을 구매했다는 것을 의미한다.|`[0, 1]`|\n",
    "</center>\n",
    "\n",
    "**a.** `ab_data.csv` 파일에서 데이터셋을 읽어와 몇 개의 행을 살펴보자:"
   ]
  },
  {
   "cell_type": "code",
   "execution_count": 88,
   "metadata": {
    "scrolled": true
   },
   "outputs": [
    {
     "data": {
      "text/html": [
       "<div>\n",
       "<style scoped>\n",
       "    .dataframe tbody tr th:only-of-type {\n",
       "        vertical-align: middle;\n",
       "    }\n",
       "\n",
       "    .dataframe tbody tr th {\n",
       "        vertical-align: top;\n",
       "    }\n",
       "\n",
       "    .dataframe thead th {\n",
       "        text-align: right;\n",
       "    }\n",
       "</style>\n",
       "<table border=\"1\" class=\"dataframe\">\n",
       "  <thead>\n",
       "    <tr style=\"text-align: right;\">\n",
       "      <th></th>\n",
       "      <th>user_id</th>\n",
       "      <th>timestamp</th>\n",
       "      <th>group</th>\n",
       "      <th>landing_page</th>\n",
       "      <th>converted</th>\n",
       "    </tr>\n",
       "  </thead>\n",
       "  <tbody>\n",
       "    <tr>\n",
       "      <th>0</th>\n",
       "      <td>851104</td>\n",
       "      <td>2017-01-21 22:11:48.556739</td>\n",
       "      <td>control</td>\n",
       "      <td>old_page</td>\n",
       "      <td>0</td>\n",
       "    </tr>\n",
       "    <tr>\n",
       "      <th>1</th>\n",
       "      <td>804228</td>\n",
       "      <td>2017-01-12 08:01:45.159739</td>\n",
       "      <td>control</td>\n",
       "      <td>old_page</td>\n",
       "      <td>0</td>\n",
       "    </tr>\n",
       "    <tr>\n",
       "      <th>2</th>\n",
       "      <td>661590</td>\n",
       "      <td>2017-01-11 16:55:06.154213</td>\n",
       "      <td>treatment</td>\n",
       "      <td>new_page</td>\n",
       "      <td>0</td>\n",
       "    </tr>\n",
       "    <tr>\n",
       "      <th>3</th>\n",
       "      <td>853541</td>\n",
       "      <td>2017-01-08 18:28:03.143765</td>\n",
       "      <td>treatment</td>\n",
       "      <td>new_page</td>\n",
       "      <td>0</td>\n",
       "    </tr>\n",
       "    <tr>\n",
       "      <th>4</th>\n",
       "      <td>864975</td>\n",
       "      <td>2017-01-21 01:52:26.210827</td>\n",
       "      <td>control</td>\n",
       "      <td>old_page</td>\n",
       "      <td>1</td>\n",
       "    </tr>\n",
       "  </tbody>\n",
       "</table>\n",
       "</div>"
      ],
      "text/plain": [
       "   user_id                   timestamp      group landing_page  converted\n",
       "0   851104  2017-01-21 22:11:48.556739    control     old_page          0\n",
       "1   804228  2017-01-12 08:01:45.159739    control     old_page          0\n",
       "2   661590  2017-01-11 16:55:06.154213  treatment     new_page          0\n",
       "3   853541  2017-01-08 18:28:03.143765  treatment     new_page          0\n",
       "4   864975  2017-01-21 01:52:26.210827    control     old_page          1"
      ]
     },
     "execution_count": 88,
     "metadata": {},
     "output_type": "execute_result"
    }
   ],
   "source": [
    "# 데이터 읽어오기\n",
    "df = pd.read_csv('ab_data.csv')\n",
    "df.head()"
   ]
  },
  {
   "cell_type": "code",
   "execution_count": 190,
   "metadata": {},
   "outputs": [
    {
     "data": {
      "text/plain": [
       "user_id          int64\n",
       "timestamp       object\n",
       "group           object\n",
       "landing_page    object\n",
       "converted        int64\n",
       "dtype: object"
      ]
     },
     "execution_count": 190,
     "metadata": {},
     "output_type": "execute_result"
    }
   ],
   "source": [
    "# 컬럼 데이터타입 \n",
    "df.dtypes"
   ]
  },
  {
   "cell_type": "markdown",
   "metadata": {},
   "source": [
    "**b.** 데이터셋의 총 행 개수."
   ]
  },
  {
   "cell_type": "code",
   "execution_count": 89,
   "metadata": {},
   "outputs": [
    {
     "data": {
      "text/plain": [
       "294478"
      ]
     },
     "execution_count": 89,
     "metadata": {},
     "output_type": "execute_result"
    }
   ],
   "source": [
    "# 행개수\n",
    "df.shape[0]"
   ]
  },
  {
   "cell_type": "markdown",
   "metadata": {},
   "source": [
    "**c.** 고유한 사용자 수."
   ]
  },
  {
   "cell_type": "code",
   "execution_count": 90,
   "metadata": {},
   "outputs": [
    {
     "data": {
      "text/plain": [
       "290584"
      ]
     },
     "execution_count": 90,
     "metadata": {},
     "output_type": "execute_result"
    }
   ],
   "source": [
    "# 고유한 사용자 수\n",
    "df.user_id.nunique()"
   ]
  },
  {
   "cell_type": "markdown",
   "metadata": {},
   "source": [
    "**d.** 각 그룹의 사용자 수."
   ]
  },
  {
   "cell_type": "code",
   "execution_count": 91,
   "metadata": {},
   "outputs": [
    {
     "data": {
      "text/plain": [
       "(147276, 147202)"
      ]
     },
     "execution_count": 91,
     "metadata": {},
     "output_type": "execute_result"
    }
   ],
   "source": [
    "df[df['group']== 'treatment'].shape[0], df[df['group']== 'control'].shape[0]"
   ]
  },
  {
   "cell_type": "markdown",
   "metadata": {
    "collapsed": true
   },
   "source": [
    "**e** 전환한 사용자의 비율."
   ]
  },
  {
   "cell_type": "code",
   "execution_count": 92,
   "metadata": {},
   "outputs": [
    {
     "data": {
      "text/plain": [
       "0.11965919355605512"
      ]
     },
     "execution_count": 92,
     "metadata": {},
     "output_type": "execute_result"
    }
   ],
   "source": [
    "# 전환한 사용자의 비율\n",
    "df['converted'].sum() / df.shape[0]"
   ]
  },
  {
   "cell_type": "markdown",
   "metadata": {
    "collapsed": true
   },
   "source": [
    "**f.** \"group\"과 \"landing_page\"가 잘못 짝지어진 경우."
   ]
  },
  {
   "cell_type": "code",
   "execution_count": 93,
   "metadata": {},
   "outputs": [
    {
     "data": {
      "text/plain": [
       "1965"
      ]
     },
     "execution_count": 93,
     "metadata": {},
     "output_type": "execute_result"
    }
   ],
   "source": [
    "# \"group\"이 treatment인데 \"landing_page\"가 new_page가 아닌 경우의 수\n",
    "df.query('group == \"treatment\" and landing_page != \"new_page\"').shape[0]"
   ]
  },
  {
   "cell_type": "code",
   "execution_count": 94,
   "metadata": {},
   "outputs": [
    {
     "data": {
      "text/plain": [
       "1928"
      ]
     },
     "execution_count": 94,
     "metadata": {},
     "output_type": "execute_result"
    }
   ],
   "source": [
    "# \"group\"이 control인데 \"landing_page\"가 old_page가 아닌 경우의 수\n",
    "df.query('group == \"control\" and landing_page != \"old_page\"').shape[0]"
   ]
  },
  {
   "cell_type": "code",
   "execution_count": 95,
   "metadata": {
    "scrolled": true
   },
   "outputs": [
    {
     "data": {
      "text/plain": [
       "3893"
      ]
     },
     "execution_count": 95,
     "metadata": {},
     "output_type": "execute_result"
    }
   ],
   "source": [
    "# 위의 두 숫자의 합\n",
    "df.query('group == \"treatment\" and landing_page != \"new_page\"').shape[0] + df.query('group == \"control\" and landing_page != \"old_page\"').shape[0] "
   ]
  },
  {
   "cell_type": "markdown",
   "metadata": {},
   "source": [
    "**g.** 실험 진행 기간 확인"
   ]
  },
  {
   "cell_type": "code",
   "execution_count": 96,
   "metadata": {},
   "outputs": [
    {
     "data": {
      "text/plain": [
       "('2017-01-02 13:42:05.378582', '2017-01-24 13:41:54.460509')"
      ]
     },
     "execution_count": 96,
     "metadata": {},
     "output_type": "execute_result"
    }
   ],
   "source": [
    "# timestamp의 최소값과 최대값 \n",
    "df.timestamp.min(), df.timestamp.max() # 총 실험 기간 = 약 22일 "
   ]
  },
  {
   "cell_type": "code",
   "execution_count": 97,
   "metadata": {},
   "outputs": [
    {
     "data": {
      "text/plain": [
       "('2017-01-02 13:42:05.378582', '2017-01-02 13:42:15.234051')"
      ]
     },
     "execution_count": 97,
     "metadata": {},
     "output_type": "execute_result"
    }
   ],
   "source": [
    "# 각 그룹별 timestamp의 최소값\n",
    "df[df['group']=='treatment'].timestamp.min(), df[df['group']=='control'].timestamp.min()"
   ]
  },
  {
   "cell_type": "code",
   "execution_count": 98,
   "metadata": {},
   "outputs": [
    {
     "data": {
      "text/plain": [
       "('2017-01-24 13:41:44.097174', '2017-01-24 13:41:54.460509')"
      ]
     },
     "execution_count": 98,
     "metadata": {},
     "output_type": "execute_result"
    }
   ],
   "source": [
    "# 각 그룹별 timestamp의 최대값\n",
    "df[df['group']=='treatment'].timestamp.max(), df[df['group']=='control'].timestamp.max()"
   ]
  },
  {
   "cell_type": "markdown",
   "metadata": {},
   "source": [
    "위 결과를 보면, 실험이 진행된 기간은 약 22일 정도로, 두 그룹 모두 2017-01-02 13:42 경에 실험을 시작하여, 2017-01-24 13:41 경에 실험을 마친 것을 알 수 있다. "
   ]
  },
  {
   "cell_type": "markdown",
   "metadata": {},
   "source": [
    "**h.** 결측치 확인"
   ]
  },
  {
   "cell_type": "code",
   "execution_count": 99,
   "metadata": {},
   "outputs": [
    {
     "data": {
      "text/plain": [
       "user_id         0\n",
       "timestamp       0\n",
       "group           0\n",
       "landing_page    0\n",
       "converted       0\n",
       "dtype: int64"
      ]
     },
     "execution_count": 99,
     "metadata": {},
     "output_type": "execute_result"
    }
   ],
   "source": [
    "# 결측치 확인\n",
    "df.isnull().sum() # 없음"
   ]
  },
  {
   "cell_type": "markdown",
   "metadata": {},
   "source": [
    "### 1.2  \n",
    "**group** 과 **landing_page** 컬럼은 아래 둘 중 하나의 값을 가져야 한다:\n",
    "\n",
    "|user_id| timestamp|group|landing_page|converted|\n",
    "|---|---|---|---|---|\n",
    "|XXXX|XXXX|`control`| `old_page`|X |\n",
    "|XXXX|XXXX|`treatment`|`new_page`|X |\n",
    "\n",
    "\n",
    "즉, `control`그룹 사용자는 `old_page`와, `treatment`그룹 사용자는 `new_page`와 매치가 되어야 한다. \n",
    "\n",
    "그러나, 몇 개의 행에서 `treatment`그룹인데도 `new_page` 값이 있거나, `control`그룹인데 `old_page` 값이 있는데, 이 경우 우리는 실제 사용자가 어떤 페이지를 받았는지 확신할 수 없다.   \n",
    "\n",
    "**a.** 부정확한 행들을 삭제하고, 그 결과를 새로운 데이터프레임 **df2**에 저장."
   ]
  },
  {
   "cell_type": "code",
   "execution_count": 100,
   "metadata": {},
   "outputs": [],
   "source": [
    "# 부정확한 행들을 삭제하고, 그 결과를 새로운 데이터프레임 df2에 저장.\n",
    "df2 = df.drop(df[((df['group']=='treatment') & (df['landing_page']=='old_page') | (df['group']=='control') & (df['landing_page']=='new_page'))].index)"
   ]
  },
  {
   "cell_type": "code",
   "execution_count": 101,
   "metadata": {},
   "outputs": [
    {
     "data": {
      "text/plain": [
       "0"
      ]
     },
     "execution_count": 101,
     "metadata": {},
     "output_type": "execute_result"
    }
   ],
   "source": [
    "# 모든 부정확한 행들이 df2에서 삭제되었는지 재 확인 - \n",
    "# 아래 구문의 결과값은 0이어야 함. \n",
    "df2[((df2['group'] == 'treatment') == (df2['landing_page'] == 'new_page')) == False].shape[0]"
   ]
  },
  {
   "cell_type": "markdown",
   "metadata": {},
   "source": [
    "### 1.3  \n",
    "**df2** 와 아래 셀들을 통해 질문에 답해보자."
   ]
  },
  {
   "cell_type": "markdown",
   "metadata": {},
   "source": [
    "**a.** **df2**에는 고유한 **user_id**가 몇 개 있는지?"
   ]
  },
  {
   "cell_type": "code",
   "execution_count": 102,
   "metadata": {},
   "outputs": [
    {
     "data": {
      "text/plain": [
       "290584"
      ]
     },
     "execution_count": 102,
     "metadata": {},
     "output_type": "execute_result"
    }
   ],
   "source": [
    "# 고유한 user_id 개수\n",
    "df2.user_id.nunique()"
   ]
  },
  {
   "cell_type": "markdown",
   "metadata": {
    "collapsed": true
   },
   "source": [
    "**b.** **df2**에는 중복된 **user_id**가 1개 있다. 어떤 것인가?"
   ]
  },
  {
   "cell_type": "code",
   "execution_count": 103,
   "metadata": {},
   "outputs": [
    {
     "data": {
      "text/plain": [
       "2893    773192\n",
       "Name: user_id, dtype: int64"
      ]
     },
     "execution_count": 103,
     "metadata": {},
     "output_type": "execute_result"
    }
   ],
   "source": [
    "# 중복 user_id 찾기\n",
    "df2[df2.duplicated(['user_id'])].user_id"
   ]
  },
  {
   "cell_type": "markdown",
   "metadata": {},
   "source": [
    "**c.** 중복된 **user_id**? "
   ]
  },
  {
   "cell_type": "code",
   "execution_count": 104,
   "metadata": {},
   "outputs": [
    {
     "data": {
      "text/html": [
       "<div>\n",
       "<style scoped>\n",
       "    .dataframe tbody tr th:only-of-type {\n",
       "        vertical-align: middle;\n",
       "    }\n",
       "\n",
       "    .dataframe tbody tr th {\n",
       "        vertical-align: top;\n",
       "    }\n",
       "\n",
       "    .dataframe thead th {\n",
       "        text-align: right;\n",
       "    }\n",
       "</style>\n",
       "<table border=\"1\" class=\"dataframe\">\n",
       "  <thead>\n",
       "    <tr style=\"text-align: right;\">\n",
       "      <th></th>\n",
       "      <th>user_id</th>\n",
       "      <th>timestamp</th>\n",
       "      <th>group</th>\n",
       "      <th>landing_page</th>\n",
       "      <th>converted</th>\n",
       "    </tr>\n",
       "  </thead>\n",
       "  <tbody>\n",
       "    <tr>\n",
       "      <th>1899</th>\n",
       "      <td>773192</td>\n",
       "      <td>2017-01-09 05:37:58.781806</td>\n",
       "      <td>treatment</td>\n",
       "      <td>new_page</td>\n",
       "      <td>0</td>\n",
       "    </tr>\n",
       "    <tr>\n",
       "      <th>2893</th>\n",
       "      <td>773192</td>\n",
       "      <td>2017-01-14 02:55:59.590927</td>\n",
       "      <td>treatment</td>\n",
       "      <td>new_page</td>\n",
       "      <td>0</td>\n",
       "    </tr>\n",
       "  </tbody>\n",
       "</table>\n",
       "</div>"
      ],
      "text/plain": [
       "      user_id                   timestamp      group landing_page  converted\n",
       "1899   773192  2017-01-09 05:37:58.781806  treatment     new_page          0\n",
       "2893   773192  2017-01-14 02:55:59.590927  treatment     new_page          0"
      ]
     },
     "execution_count": 104,
     "metadata": {},
     "output_type": "execute_result"
    }
   ],
   "source": [
    "# 동일한 user_id를 가진 중복된 행\n",
    "df2[df2.duplicated(['user_id'], keep=False)]"
   ]
  },
  {
   "cell_type": "markdown",
   "metadata": {},
   "source": [
    "**d.** **df2**에서 중복된 **user_id**를 가진 행 중 하나를 삭제한다."
   ]
  },
  {
   "cell_type": "code",
   "execution_count": 105,
   "metadata": {},
   "outputs": [
    {
     "data": {
      "text/plain": [
       "0"
      ]
     },
     "execution_count": 105,
     "metadata": {},
     "output_type": "execute_result"
    }
   ],
   "source": [
    "# df2에서 중복된 user_id를 가진 행 중 하나를 삭제한다.\n",
    "# 주의! 중복된 user_id를 가진 행이 완전히 똑같은 값을 가지고 있는게 아니기 때문에 dataframe.drop_duplicates()는 적용안됨. \n",
    "df2 = df2.drop_duplicates(subset=\"user_id\", keep=\"first\")\n",
    "\n",
    "# 삭제되었는지 재 확인\n",
    "df2[df2.duplicated(['user_id'])].shape[0]  # 없음"
   ]
  },
  {
   "cell_type": "markdown",
   "metadata": {},
   "source": [
    "###  1.4  \n",
    "**df2** 와 아래 셀들을 통해 질문에 답해보자.\n",
    "\n",
    "**a.** 받은 페이지에 관계없이 사용자의 전환율 얼마인가?<br><br>\n",
    "> 확률은 전체 사용자 중 \"전환된\" 성공률이며, $p_{population}$ 로 표현된다.\n",
    "\n"
   ]
  },
  {
   "cell_type": "code",
   "execution_count": 106,
   "metadata": {},
   "outputs": [
    {
     "data": {
      "text/plain": [
       "0.11959708724499628"
      ]
     },
     "execution_count": 106,
     "metadata": {},
     "output_type": "execute_result"
    }
   ],
   "source": [
    "# 전체 사용자의 전환율\n",
    "df2.converted.mean()"
   ]
  },
  {
   "cell_type": "markdown",
   "metadata": {},
   "source": [
    "**b.** 사용자가 `control` 그룹이라고 할 때, 전환율은 얼마인가?"
   ]
  },
  {
   "cell_type": "code",
   "execution_count": 107,
   "metadata": {},
   "outputs": [
    {
     "name": "stderr",
     "output_type": "stream",
     "text": [
      "/var/folders/pv/f7xfvbxd1p3470n641kdm7l00000gn/T/ipykernel_17158/2362478500.py:2: UserWarning: Boolean Series key will be reindexed to match DataFrame index.\n",
      "  conv_rate_c = df2[df['group']=='control'].converted.mean()\n"
     ]
    },
    {
     "data": {
      "text/plain": [
       "0.1203863045004612"
      ]
     },
     "execution_count": 107,
     "metadata": {},
     "output_type": "execute_result"
    }
   ],
   "source": [
    "# \"control\" 그룹에서 사용자의 전환율\n",
    "conv_rate_c = df2[df['group']=='control'].converted.mean()\n",
    "conv_rate_c"
   ]
  },
  {
   "cell_type": "markdown",
   "metadata": {},
   "source": [
    "**c.** 사용자가  `treatment` 그룹이라고 할 때, 전환율은 얼마인가? "
   ]
  },
  {
   "cell_type": "code",
   "execution_count": 108,
   "metadata": {},
   "outputs": [
    {
     "name": "stderr",
     "output_type": "stream",
     "text": [
      "/var/folders/pv/f7xfvbxd1p3470n641kdm7l00000gn/T/ipykernel_17158/1699139085.py:2: UserWarning: Boolean Series key will be reindexed to match DataFrame index.\n",
      "  conv_rate_t = df2[df['group']=='treatment'].converted.mean()\n"
     ]
    },
    {
     "data": {
      "text/plain": [
       "0.11880806551510564"
      ]
     },
     "execution_count": 108,
     "metadata": {},
     "output_type": "execute_result"
    }
   ],
   "source": [
    "# \"treatment\" 그룹에서 사용자의 전환율\n",
    "conv_rate_t = df2[df['group']=='treatment'].converted.mean()\n",
    "conv_rate_t"
   ]
  },
  {
   "cell_type": "markdown",
   "metadata": {},
   "source": [
    "> 위 (b)와 (c)에서 구한 확률은 전환율로 표현할 수 있다. "
   ]
  },
  {
   "cell_type": "code",
   "execution_count": 123,
   "metadata": {},
   "outputs": [
    {
     "data": {
      "text/plain": [
       "(0.11880806551510564, 0.1203863045004612)"
      ]
     },
     "execution_count": 123,
     "metadata": {},
     "output_type": "execute_result"
    }
   ],
   "source": [
    "# 두 그룹의 전환율 확인 \n",
    "conv_rate_t, conv_rate_c #new_page 전환율=약11%, old_page 전환율=약12%"
   ]
  },
  {
   "cell_type": "code",
   "execution_count": 109,
   "metadata": {},
   "outputs": [
    {
     "data": {
      "text/plain": [
       "-0.0015782389853555567"
      ]
     },
     "execution_count": 109,
     "metadata": {},
     "output_type": "execute_result"
    }
   ],
   "source": [
    "# 실제 두 그룹의 전환율의 차이(obs_diff)를 계산.\n",
    "obs_diff = conv_rate_t - conv_rate_c\n",
    "obs_diff"
   ]
  },
  {
   "cell_type": "markdown",
   "metadata": {},
   "source": [
    "**d.** 사용자가 new page를 받을 확률은?"
   ]
  },
  {
   "cell_type": "code",
   "execution_count": 110,
   "metadata": {},
   "outputs": [
    {
     "data": {
      "text/plain": [
       "0.5000619442226688"
      ]
     },
     "execution_count": 110,
     "metadata": {},
     "output_type": "execute_result"
    }
   ],
   "source": [
    "# 사용자가 \"new page\"를 받을 확률\n",
    "df2[df2['landing_page']=='new_page'].shape[0] / df2.shape[0]"
   ]
  },
  {
   "cell_type": "markdown",
   "metadata": {},
   "source": [
    "오래된 페이지를 받은 `control` 그룹과 새로운 페이지를 받은 `treatment` 그룹간의 전환율 차이는 **0.0015**로 매우 **근소한** 차이로 보인다.    \n",
    "따라서 새로운 페이지를 받은 `treatment` 그룹의 사용자가 더 많은 전환을 했다고 말하기는 어렵다. "
   ]
  },
  {
   "cell_type": "markdown",
   "metadata": {},
   "source": [
    "<a id='ab_test'></a>\n",
    "## Part II - A/B 테스트\n",
    "\n",
    "timestamp 는 각 이벤트와 연계되기 때문에, 우리가 이벤트들을 인지할 수 있는 한 우리는 계속해서 가설 검정을 진행할 수 있다. \n",
    "\n",
    "그러나, 어려운 문제는: \n",
    "- 한 페이지가 다른 페이지보다 유의미하게 더 낫다고 여겨지는 즉시 멈출 것인가? 아니면 이것이 특정 기간동안 계속해서 일어나야 하는가? \n",
    "- 어떤 한 페이지가 다른 페이지보다 낫다는 결정을 하기 위해서는 얼마나 오래 실험을 해야하는가? \n",
    "\n",
    "이런 질문들은 보통 A/B 테스트를 할 때 고려해야하는 어려운 부분들이다. \n",
    "\n",
    "\n",
    "### 2.1\n",
    "지금은, 단지 주어진 데이터에만 근거해서 결정을 내려야 한다고 가정해보자.   \n",
    "\n",
    "> 앞서 전환율을 계산했을 때, old page 가 new page보다 전환율이 **근소하게** 높았던 것을 기억해보자 (1.4.c).\n",
    "\n",
    "\n",
    "만약 제 1종 오류를 범할 확률 (α, 즉 가설 검정에 대해 설정한 유의 수준)을 5%로 두고, new page가 명백히 더 낫지 않은 이상 **\"old page가 new page 보다 더 낫다\"**고 가정하고자 한다.   \n",
    "이 때 귀무가설과 대립가설(**$H_0$** and **$H_1$**)은 각각 어떻게 될까?  \n",
    "\n",
    "\n",
    "**$p_{old}$** and **$p_{new}$**, 즉 old page와 new page의 \"전환률\"로 설명해보자. "
   ]
  },
  {
   "cell_type": "markdown",
   "metadata": {},
   "source": [
    ">- **$H_0$** (귀무가설) : **$p_{new}$** - **$p_{old}$** $≤$ $0$\n",
    ">- **$H_1$** (대립가설) : **$p_{new}$** - **$p_{old}$** $>$ $0$"
   ]
  },
  {
   "cell_type": "markdown",
   "metadata": {},
   "source": [
    "###  2.2 - 귀무가설 $H_0$ 검정\n",
    "귀무가설 $H_0$ 하에서, $p_{new}$ 와 $p_{old}$ 는 같다고 가정할 수 있다. 또한,  $p_{new}$ 와 $p_{old}$ 는 모두 `df2` 의 **전환율**과 같다고 가정해보자. 그러면, 우리의 가정은: <br><br>\n",
    "<center>\n",
    "$p_{new}$ = $p_{old}$ = $p_{population}$\n",
    "</center>\n",
    "\n",
    "이 섹션에서는: \n",
    "\n",
    "- 두 그룹 모두 샘플링(부트스트랩)을 하여, \"전환율\" $p$ 를 계산한다. \n",
    "\n",
    "- 두 그룹 모두 `df2`의 데이터 개수를 샘플의 크기로 사용한다. \n",
    "\n",
    "- 위에서 구한 두 그룹의 \"전환율\"의 차이를 계산한다. \n",
    "\n",
    "- 두개의 표본 사이의 \"전환율 차이\"를 10,000번 반복하여 표본분포로 나타내고 예측값을 계산한다. \n"
   ]
  },
  {
   "cell_type": "markdown",
   "metadata": {},
   "source": [
    "**a.** 귀무가설 하에서 $p_{new}$의 **전환율**은 얼마인가?"
   ]
  },
  {
   "cell_type": "code",
   "execution_count": 111,
   "metadata": {},
   "outputs": [
    {
     "data": {
      "text/plain": [
       "0.11959708724499628"
      ]
     },
     "execution_count": 111,
     "metadata": {},
     "output_type": "execute_result"
    }
   ],
   "source": [
    "# \"treatment\" 그룹의 전환율 -> 귀무가설 하에서 전체 모집단의 전환율\n",
    "p_new = df2.converted.mean()\n",
    "p_new"
   ]
  },
  {
   "cell_type": "markdown",
   "metadata": {},
   "source": [
    "**b.** 귀무가설 하에서 $p_{old}$의 전환율은 얼마인가?"
   ]
  },
  {
   "cell_type": "code",
   "execution_count": 112,
   "metadata": {},
   "outputs": [
    {
     "data": {
      "text/plain": [
       "0.11959708724499628"
      ]
     },
     "execution_count": 112,
     "metadata": {},
     "output_type": "execute_result"
    }
   ],
   "source": [
    "# \"control\" 그룹의 전환율 -> 귀무가설 하에서 전체 모집단의 전환율\n",
    "p_old = df2.converted.mean()\n",
    "p_old"
   ]
  },
  {
   "cell_type": "markdown",
   "metadata": {},
   "source": [
    "**c.** treatment 그룹 사용자의 수$n_{new}$는 얼마인가?"
   ]
  },
  {
   "cell_type": "code",
   "execution_count": 113,
   "metadata": {},
   "outputs": [
    {
     "data": {
      "text/plain": [
       "145310"
      ]
     },
     "execution_count": 113,
     "metadata": {},
     "output_type": "execute_result"
    }
   ],
   "source": [
    "# \"treatment\" 그룹 사용자 수\n",
    "n_new = df2[df2['landing_page']=='new_page'].shape[0]\n",
    "n_new"
   ]
  },
  {
   "cell_type": "markdown",
   "metadata": {},
   "source": [
    "**d.** control 그룹 사용자의 수 $n_{old}$는 얼마인가?"
   ]
  },
  {
   "cell_type": "code",
   "execution_count": 114,
   "metadata": {},
   "outputs": [
    {
     "data": {
      "text/plain": [
       "145274"
      ]
     },
     "execution_count": 114,
     "metadata": {},
     "output_type": "execute_result"
    }
   ],
   "source": [
    "# \"control\" 그룹 사용자 수\n",
    "n_old = df2[df2['landing_page']=='old_page'].shape[0]\n",
    "n_old"
   ]
  },
  {
   "cell_type": "markdown",
   "metadata": {},
   "source": [
    "**e. `treatment` 그룹의 무작위 표본 추출**<br> \n",
    "\n",
    "귀무가설 하에서, 전환율 $p_{new}$를 가지고 $n_{new}$번 무작위 추출한다. \n",
    "\n",
    "귀무가설 하에서, 전환율 $P_{new}$를 가지고 $N_{new}$번 무작위 추출하기 위해서, 우리는 아래 3가지 방법 중 하나를 사용할 수 있다:\n",
    "\n",
    "- numpy.random.binomial\n",
    "\n",
    "- numpy.random.choice\n",
    "\n",
    "- pandas.DataFrame.sample\n",
    "\n",
    "\n",
    "이 프로젝트에서는, `numpy.random.choice()` 메소드를 사용해 무작위로 $n_{new}$ 개의 값을 생성할 것이다. <br>\n",
    "그리고 이 $n_{new}$의 1과 0을 `new_page_converted`라는 numpy 배열에 담는다. "
   ]
  },
  {
   "cell_type": "code",
   "execution_count": 115,
   "metadata": {},
   "outputs": [
    {
     "data": {
      "text/plain": [
       "array([1, 1, 1, ..., 0, 1, 1])"
      ]
     },
     "execution_count": 115,
     "metadata": {},
     "output_type": "execute_result"
    }
   ],
   "source": [
    "# treatment 그룹의 무작위 표본 추출\n",
    "np_new = np.array(df2[df2['landing_page']=='new_page'].converted)\n",
    "new_page_converted = np.random.choice([0,1], size=n_new, p=[p_new, 1-p_new])\n",
    "new_page_converted"
   ]
  },
  {
   "cell_type": "markdown",
   "metadata": {},
   "source": [
    "**f. `control` 그룹의 무작위 표본 추출** <br>\n",
    "귀무가설 하에서, 전환율 $p_{old}$로 $n_{old}$번 무작위 추출한다. <br> \n",
    "그리고 이 $n_{old}$의 1과 0 값을 `old_page_converted` 라는 numpy 배열에 담는다. "
   ]
  },
  {
   "cell_type": "code",
   "execution_count": 116,
   "metadata": {},
   "outputs": [
    {
     "data": {
      "text/plain": [
       "array([0, 1, 1, ..., 1, 0, 1])"
      ]
     },
     "execution_count": 116,
     "metadata": {},
     "output_type": "execute_result"
    }
   ],
   "source": [
    "# control 그룹의 무작위 표본 추출\n",
    "np_old = np.array(df2[df2['landing_page']=='old_page'].converted)\n",
    "old_page_converted = np.random.choice([0,1], size=n_old, p=[p_old, 1-p_old])\n",
    "old_page_converted"
   ]
  },
  {
   "cell_type": "markdown",
   "metadata": {},
   "source": [
    "**g.** (e)와 (f)에서 구한 무작위 추출 표본의 \"전환율\" 평균의 차이를 $(p{'}_{new}$ - $p{'}_{old})$ 구한다."
   ]
  },
  {
   "cell_type": "code",
   "execution_count": 117,
   "metadata": {},
   "outputs": [
    {
     "data": {
      "text/plain": [
       "0.00044235869165487607"
      ]
     },
     "execution_count": 117,
     "metadata": {},
     "output_type": "execute_result"
    }
   ],
   "source": [
    "# 무작위 추출 표본의 \"전환율\" 차이\n",
    "sam_diff = new_page_converted.mean() - old_page_converted.mean()\n",
    "sam_diff"
   ]
  },
  {
   "cell_type": "markdown",
   "metadata": {},
   "source": [
    "\n",
    "**h. 표본 분포** <br>\n",
    "여기서는 위 (a) 부터 (g)까지 사용했던 무작위 추출 방법을 10,000번 반복하여 `new_page_converted` 와 `old_page_converted`를 다시 생성하고 전환율의 차이 $(p{'}_{new}$ - $p{'}_{old})$ 를 구한다.  \n",
    "\n",
    "<br>\n",
    "그리고 모든 전환율 차이 $(p{'}_{new}$ - $p{'}_{old})$ 값을 `p_diffs` 라고 하는 새로운 numpy 배열에 담는다. "
   ]
  },
  {
   "cell_type": "code",
   "execution_count": 118,
   "metadata": {},
   "outputs": [],
   "source": [
    "# 표본 분포\n",
    "p_diffs = [] # 전환율 차이값을 담을 배열\n",
    "for i in range(10000):\n",
    "    new_page_converted = np.random.choice([1,0], size=n_new, p=[p_new, 1-p_new]) \n",
    "    old_page_converted = np.random.choice([1,0], size=n_old, p=[p_old, 1-p_old])\n",
    "    diff = new_page_converted.mean() - old_page_converted.mean() # new_page 전환율 평균 - old_page 전환율 평균\n",
    "    p_diffs.append(diff) # p_diffs 배열에 담기 "
   ]
  },
  {
   "cell_type": "markdown",
   "metadata": {},
   "source": [
    "**i. 히스토그램**<br> \n",
    "**p_diffs** 의 히스토그램을 그려보자. \n",
    "\n",
    "그리고, `plt.axvline()` 메소드를 이용해 `df2` 데이터에서 관측된 실제 전환율의 차이(`obs_diff`)를 차트에 표시해본다. "
   ]
  },
  {
   "cell_type": "code",
   "execution_count": 150,
   "metadata": {},
   "outputs": [
    {
     "data": {
      "image/png": "[encoded data removed]",
      "text/plain": [
       "<Figure size 720x360 with 1 Axes>"
      ]
     },
     "metadata": {
      "needs_background": "light"
     },
     "output_type": "display_data"
    }
   ],
   "source": [
    "plt.figure(figsize=(10,5))\n",
    "plt.hist(p_diffs, bins=20)\n",
    "plt.axvline(x=obs_diff, color='red', linestyle='dashed', linewidth=2, label='모집단의 전환율 차이(obs_diff)') # df2에서 관측된 실제 차이값 -> 빨간색 실선으로 표시\n",
    "plt.title('New_page와 Old_page의 전환율 차이')\n",
    "plt.xlabel('전환율 차이(p_new - p_old)')\n",
    "plt.ylabel('개수')\n",
    "\n",
    "plt.legend()\n",
    "plt.show()"
   ]
  },
  {
   "cell_type": "markdown",
   "metadata": {},
   "source": [
    "**j.** **p_diffs** 에서 `df2`에서 관측된 실제 차이값(obs_diff)보다 더 큰 값들의 비율은? "
   ]
  },
  {
   "cell_type": "code",
   "execution_count": 31,
   "metadata": {},
   "outputs": [
    {
     "data": {
      "text/plain": [
       "0.9006"
      ]
     },
     "execution_count": 31,
     "metadata": {},
     "output_type": "execute_result"
    }
   ],
   "source": [
    "# p_diffs에서 obs_diff 보다 큰 값의 비율\n",
    "(np.array(p_diffs)>obs_diff).mean()"
   ]
  },
  {
   "cell_type": "markdown",
   "metadata": {},
   "source": [
    "위의 결과에 따라, p-value는 약 **0.9006**이라는 것을 알 수 있다. \n",
    "\n",
    "위의 히스토그램 차트를 보면, 빨간색 선에서부터 오른쪽 방향으로 많은 데이터가 있는 것을 알 수 있고(대립가설), 관측된 실제 차이값인 `obs_diff`보다 **더 큰** 값이 `p_diffs`에서 관측될 확률인 p-value를 계산했을 때, **0.9006**로 이는 `제 1종 오류`*를 범할 확률의 유의수준인 0.05보다 훨씬 큰 값임을 알 수 있다. 따라서 귀무가설이 맞다는 전제하에 관측된 통계값(_여기서는 두 그룹의 전환율의 차이인 obs_diff_)보다 더 큰 값이 나올 확률인 p-value가 0.9006이라는 점에서, 이것이 귀무가설에 해당하는 모집단에서 추출된 표본이라고 볼 수 있고, 그러므로 결론적으로 귀무가설을 기각할 수 없다. 이는 사실상 `treatment` 그룹과 `control` 그룹 사이에 전환율의 차이가 없다는 것을 의미한다. \n",
    "\n",
    "*_실험군의 전환율($p_{new}$)이 대조군의 전환율($p_{old}$) 보다 높지 않음에도 불구하고 실험군의 전환율($p_{new}$)이 더 높다고 판단해 귀무가설을 기각_"
   ]
  },
  {
   "cell_type": "markdown",
   "metadata": {},
   "source": [
    "\n",
    "\n",
    "**l. 가설 검정을 위해 내장함수 사용하기**<br>\n",
    "내장함수를 이용해서도 비슷한 결과를 얻을 수 있다. 내장함수를 사용하는 것은 코드를 작성하기는 쉽지만, 위에서 다룬 부분은 통계적 유의성에 대해 정확하게 사고하기 위해 중요한 연습이었다는 점을 참고하자. \n",
    "\n",
    "먼저 내장함수를 사용할 때 필요한 아래 4가지 항목의 값을 구해 변수에 담아보자. \n",
    "\n",
    "- `convert_old`: old_page의 총 전환 횟수\n",
    "- `convert_new`: new_page의 총 전환 횟수\n",
    "- `n_old`: old_page가 주어진 사용자 수 \n",
    "- `n_new`: new_page가 주어진 사용자 수\n"
   ]
  },
  {
   "cell_type": "code",
   "execution_count": 32,
   "metadata": {},
   "outputs": [
    {
     "data": {
      "text/plain": [
       "(17489, 17264, 145274, 145310)"
      ]
     },
     "execution_count": 32,
     "metadata": {},
     "output_type": "execute_result"
    }
   ],
   "source": [
    "import statsmodels.api as sm\n",
    "\n",
    "# old_page의 총 전환 횟수\n",
    "convert_old = df2.query('landing_page == \"old_page\"').converted.sum()\n",
    "\n",
    "# new_page의 총 전환 횟수\n",
    "convert_new = df2.query('landing_page == \"new_page\"').converted.sum()\n",
    "\n",
    "# old_page가 주어진 사용자 수\n",
    "n_old = df2.query('landing_page == \"old_page\"').user_id.nunique()\n",
    "\n",
    "# new_page가 주어진 사용자 수\n",
    "n_new = df2.query('landing_page == \"new_page\"').user_id.nunique()\n",
    "\n",
    "# 확인\n",
    "convert_old, convert_new, n_old, n_new"
   ]
  },
  {
   "cell_type": "markdown",
   "metadata": {},
   "source": [
    "**m.** 이제 `sm.stats.proportions_ztest()` 를 사용해서 검정 통계와 p-value 값을 계산하자.  \n",
    "내장함수 사용에 대해 도움을 얻고 싶다면 [여기](https://www.statsmodels.org/stable/generated/statsmodels.stats.proportion.proportions_ztest.html)를 참고해라. \n",
    "\n",
    "문법은 다음과 같다: \n",
    "```bash\n",
    "proportions_ztest(count_array, nobs_array, alternative='larger')\n",
    "```\n",
    "\n",
    "예시를 보면, 아래와 같다. \n",
    "```bash\n",
    "z_score, p_value = sm.stats.proportions_ztest([convert_new,convert_old], [n_new,n_old], alternative=\"larger\")\n",
    "```\n",
    "여기서, \n",
    "- `count_array` = 각 그룹의 \"전환율\" 횟수 (the number of successes for each independent sample)\n",
    "- `nobs_array` = 각 그룹의 총 관측 개수(행수) (the number of trials or observations)\n",
    "- `alternative` = `[‘two-sided’, ‘smaller’, ‘larger’]` 중 하나의 값을 선택한다. 차례로 양측검정, 왼쪽 단측검정, 오른쪽 단측검정을 의미한다. (대립가설의 부등호 방향에 따라 선택)\n",
    "\n",
    "> 양측검정(Two-tailed) : $H_1$ 은 $(p_{new} = p_{old})$. <br>\n",
    "> 왼쪽 단측검정(Left-tailed) : $H_1$ 은 $(p_{new} < p_{old})$. <br>\n",
    "> 오른쪽 단측검정(Right-tailed) : $H_1$ 은 $(p_{new} > p_{old})$. \n",
    "\n",
    "위의 내장함수는 z_score와 p_value 값을 반환한다. "
   ]
  },
  {
   "cell_type": "markdown",
   "metadata": {},
   "source": [
    "### 이(2) 표본 Z검정 (독립표본 Z검정)\n",
    "\n",
    "앞서 10,000번 반복하여 무작위 추출된 두 개의 표본에서 \"전환율\"의 차이인 `p_diffs`, 즉 $(p{'}_{new}-p{'}_{old})$의 분포를 차트로 나타낸 것을 생각해보자. \n",
    "\n",
    "두 개의 독립 정규 분포의 평균을 비교하는 또 다른 방법은 **이(2)표본 Z검정(two-sample z-test)** 이다.   \n",
    "아래의 식을 사용해서 Z검정을 시행하고 Z_score 를 계산할 수 있다: \n",
    "\n",
    "$$\n",
    "Z_{score} = \\frac{ (p{'}_{new}-p{'}_{old}) - (p_{new}  -  p_{old})}{ \\sqrt{ \\frac{\\sigma^{2}_{new} }{n_{new}} + \\frac{\\sigma^{2}_{old} }{n_{old}}  } }\n",
    "$$\n",
    "\n",
    "여기에서,\n",
    "- $p{'}$ 는 표본에서의 \"전환율\" \n",
    "- $p_{new}$ 와 $p_{old}$ 는 모집단에서 두 그룹의 \"전환율\" (귀무가설 하에서는 0이라고 가정) \n",
    "- $\\sigma_{new}$ 와 $\\sigma_{old}$ 는 모집단에서 두 그룹의 표준편차 (여기서는 표본의 표준편차와 동일하다고 가정)\n",
    "- $n_{new}$ 와 $n_{old}$ 는 두 개의 그룹 또는 표본(여기서는 동일함)의 크기\n",
    "\n",
    "를 말한다. \n",
    "\n",
    "\n",
    ">Z검정은 표본의 크기가 크고, 모집단의 분산(또는 표준편차)를 알고 있을 때 시행한다. z-score는 표준오차에 대해서 두 개의 \"전환율\" 사이의 거리를 나타낸다.   \n",
    "(표준오차에 대한 더 자세한 정보는 [여기](https://goodtogreate.tistory.com/entry/%ED%91%9C%EC%A4%80%EC%98%A4%EC%B0%A8-Standard-Error#:~:text=%ED%8F%89%EA%B7%A0%EC%9D%98%20%ED%91%9C%EC%A4%80%20%EC%98%A4%EC%B0%A8(%ED%8F%89%EA%B7%A0,%EB%82%B4%EC%9D%98%20%EB%B3%80%EB%8F%99%EC%84%B1%EC%9D%84%20%EC%B8%A1%EC%A0%95%ED%95%A9%EB%8B%88%EB%8B%A4.)에서 확인) \n",
    "\n",
    "\n",
    "\n",
    "보통 ‘모분산’을 알 경우 Z검정, 아닐 경우 T검정을 사용하지만, 표본의 크기가 충분히 크다면 T검정 대신 Z검정을 사용해도 된다. 여기에서는 표본의 크기가 충분히 크기 때문에 모분산이 표본분산과 같다고 가정하여 Z검정을 이용해 테스트를 진행한다. ([참고](https://zzaebok.github.io/ab_test/ab-testing/))\n",
    "\n",
    "\n",
    "다음 단계는 아래 두 개의 값을 비교하여 귀무가설을 기각할지 또는 채택할지 결정을 내리는 것이다: \n",
    "- $Z_{score}$\n",
    "- $Z_{\\alpha}$ 또는 $Z_{0.05}$, 또는 95%의 신뢰구간에서의 임계값.    \n",
    "단측 검정에서 $Z_{0.05}$ 는 1.645이며, 양측검정에서는 1.960이다. z-table 에서 직접 $Z_{\\alpha}$ 을 결정할 수도 있다. \n",
    "\n",
    "먼저, 가설이 양측검정인지, 왼쪽 단측검정인지, 또는 오른쪽 단측검정인지 결정할 필요가 있다. 그것에 따라서, $Z_{score}$과 $Z_{\\alpha}$를 비교해 귀무가설을 기각하거나 채택할 것이다. 다른 말로, \"기각역\"은 $Z_{score}$가 그 영역에 있을 때 귀무가설을 기각하는 구간이다. \n",
    "\n",
    ">오른쪽 단측검정의 경우, $Z_{score}$ > $Z_{\\alpha}$ 인 경우 귀무가설을 기각한다. <br>\n",
    ">왼쪽 단측검정의 경우, $Z_{score}$ < $Z_{\\alpha}$ 인 경우 귀무가설을 기각한다. \n",
    "\n",
    "\n",
    "참고: \n",
    "- 이 [페이지](https://stats.libretexts.org/Bookshelves/Introductory_Statistics/Book%3A_Introductory_Statistics_(Shafer_and_Zhang)/09%3A_Two-Sample_Problems/9.01%3A_Comparison_of_Two_Population_Means-_Large_Independent_Samples)의 예시 9.1.2, courtesy www.stats.libretexts.org"
   ]
  },
  {
   "cell_type": "markdown",
   "metadata": {},
   "source": [
    "먼저, statsmodels 라이브러리를 import 한다."
   ]
  },
  {
   "cell_type": "code",
   "execution_count": 33,
   "metadata": {},
   "outputs": [
    {
     "name": "stdout",
     "output_type": "stream",
     "text": [
      "-1.3109241984234394 0.9050583127590245\n"
     ]
    }
   ],
   "source": [
    "import statsmodels.api as sm\n",
    "z_score, p_value = sm.stats.proportions_ztest([convert_new,convert_old], [n_new,n_old], alternative=\"larger\")\n",
    "print(z_score, p_value)"
   ]
  },
  {
   "cell_type": "markdown",
   "metadata": {},
   "source": [
    "proportions_ztest 메소드를 사용하여, z-score와 p_value 값을 구한 결과, **z-score는 대략 -1.31, p-value는 약 0.905** 인 것을 알 수 있다.    \n",
    "z-score에 대해 차트로 표현해서 좀 더 알아보기로 하자. "
   ]
  },
  {
   "cell_type": "markdown",
   "metadata": {},
   "source": [
    "먼저, z-alpha(임계값)을 구해보자. \n",
    "\n",
    "만약 특정분포가 정규분포라면 scipy 패키지의 norm.ppf() 함수를 이용해서 정규분포의 분위수(quartile)를 구할 수 있다.  \n",
    "norm.ppf() 함수의 입력인자는 다음과 같다.\n",
    "(norm.ppf() 함수에 대한 정보는 [여기](https://docs.scipy.org/doc/scipy/reference/generated/scipy.stats.norm.html) 를 참고)\n",
    "\n",
    "- q: 분위수 값\n",
    "- loc: 평균(μ) (생략 시 0)\n",
    "- scale: 표준편차(σ) (생략 시 1)"
   ]
  },
  {
   "cell_type": "code",
   "execution_count": 152,
   "metadata": {
    "scrolled": true
   },
   "outputs": [
    {
     "data": {
      "text/plain": [
       "1.6448536269514722"
      ]
     },
     "execution_count": 152,
     "metadata": {},
     "output_type": "execute_result"
    }
   ],
   "source": [
    "# z-alpha(임계값) 구하기\n",
    "from scipy.stats import norm\n",
    "\n",
    "# 95% 신뢰구간에서 임계값\n",
    "# z-score가 이 임계값보다 낮은 경우 귀무가설을 기각할 수 없다. \n",
    "critical_value = norm.ppf(1 - (0.05))\n",
    "critical_value # 약 1.645"
   ]
  },
  {
   "cell_type": "markdown",
   "metadata": {},
   "source": [
    "위에서 구한 임계값(z_alpha)과 표본에서 구한 z_score를 한 차트에 그려 비교해보자.   \n",
    "임의로 평균이 0, 표준편차가 1인 정규분포를 만들어 표시하였다. "
   ]
  },
  {
   "cell_type": "code",
   "execution_count": 176,
   "metadata": {
    "scrolled": true
   },
   "outputs": [
    {
     "data": {
      "image/png": "[encoded data removed]",
      "text/plain": [
       "<Figure size 504x360 with 1 Axes>"
      ]
     },
     "metadata": {
      "needs_background": "light"
     },
     "output_type": "display_data"
    }
   ],
   "source": [
    "# hist plot\n",
    "plt.figure(figsize=(7,5))\n",
    "g = sns.histplot(np.random.normal(0, 1, 10000)) # np.random.normal(평균, 표준편차, 개수)\n",
    "g.axvline(x=z_score, color='red', label='z_score') # z_score\n",
    "g.axvline(x=critical_value, color='blue', label='z_alpha'); # z_alpha\n",
    "\n",
    "plt.legend()\n",
    "plt.show()"
   ]
  },
  {
   "cell_type": "markdown",
   "metadata": {},
   "source": [
    "위 차트를 보면, 우리가 구한 z-score는 **-1.3109**로, 이는 표본에서 두 집단의 전환율 차이(`obs_diff`)가 귀무가설일 때 모집단의 전환율 차이를 0으로 가정했을 때 이보다 약 **-1.31**배 만큼 떨어져있다는 것을 의미한다. z-score가 클 수록, 두 집단이 같은 모집단에서 추출된게 아니라는 의미가 되고, 두 집단의 차이는 통계적으로 유의성을 가지게 된다. \n",
    "\n",
    "일반적으로 단측 검정에서 $Z_{\\alpha}$ 또는 $Z_{0.05}$는 **1.645**이며(파란선), 지금과 같이 오른쪽 단측 검정의 경우, 𝑍𝑠𝑐𝑜𝑟𝑒  >  𝑍𝛼 이면 귀무가설을 기각할 수 있다.    \n",
    "따라서 여기서는 𝑍𝑠𝑐𝑜𝑟𝑒 **-1.31**은 $Z_{\\alpha}$ **1.645** 보다 작기 때문에, 귀무가설을 기각할 수 없다. \n",
    "\n",
    "또한 p-value는 **0.905**로 앞서 구했던 p-value인 **0.907** 과 매우 근사한 값이 나왔다.   \n",
    "마찬가지로 귀무가설을 기각할 수 없다는 결론이 나온다. "
   ]
  },
  {
   "cell_type": "markdown",
   "metadata": {},
   "source": [
    "#### ※ 참고 \n",
    "\n",
    "**Z검정 통계량의 의미 ([출처](https://infograph.tistory.com/268))**\n",
    "\n",
    ">Z검정 통계량의 의미는 무엇일까?    \n",
    ">\n",
    ">이것은 표본의 평균이, 모평균과 모표준편차에 의해 그려지는 정규분포에서 어디에 위치해 있는가를 나타내는 값이다.  \n",
    ">정규분포 곡선을 이미지로 그려보면, 표본의 평균이 이 정규분포 곡선의 x축 어디 값인가를 나타낸다.  \n",
    "> 왜 그런가 하면, (표본평균 - 모평균)을 한 것을 표준오차(모표준편차를 개수 제곱근으로 나눈 값)로 나누고 있기에, 표본평균과 모평균의 차이값이 표준오차의 몇 배인가를 나타내는 것이다. \n",
    "\n"
   ]
  },
  {
   "cell_type": "markdown",
   "metadata": {},
   "source": [
    "<a id='regression'></a>\n",
    "### Part III - 회귀 분석 방법\n",
    "\n",
    "###  3.1 \n",
    "마지막 파트에서는, 위의 PartII에서 얻은 A/B 테스트 결과가 회귀 분석 방법을 이용해 동일하게 얻어질 수 있다는 것을 확인할 것이다. <br><br> \n",
    "\n",
    "**a.** `df2` 데이터의 각 행이 \"전환\" 이거나 \"전환아님\" 둘 중 하나이기 때문에, 여기서는 **로지스틱 회귀분석** 방법을 이용할 것이다. \n",
    "예측된 반응변수(여기서는 `converted`)가 0과 1 사이의 확률(여기서는 _전환아님_ 이거나 _전환_)일 때 우리는 로지스틱 회귀 분석 방법을 사용할 수 있다. "
   ]
  },
  {
   "cell_type": "markdown",
   "metadata": {},
   "source": [
    "**b.** 여기서 목적은 **statsmodels**  라이브러리를 사용해 사용자가 받은 페이지의 타입에 따라 전환율에 유의미한 차이가 있는지 보기 위해서 **a.**에서 말한 회귀 분석 모델링을 하는 것이다. 그러나 먼저 아래의 두개의 컬럼을 `df2`에 생성할 필요가 있다: \n",
    " 1. `intercept` - 전체 컬럼에서 이 값은 `1`이다. \n",
    " 2. `ab_page` - 이것은 가변수 컬럼으로, **treatment** 그룹인 경우 `1`을, 그렇지 않은 경우 `0`을 갖는다. "
   ]
  },
  {
   "cell_type": "code",
   "execution_count": 34,
   "metadata": {
    "scrolled": true
   },
   "outputs": [
    {
     "data": {
      "text/html": [
       "<div>\n",
       "<style scoped>\n",
       "    .dataframe tbody tr th:only-of-type {\n",
       "        vertical-align: middle;\n",
       "    }\n",
       "\n",
       "    .dataframe tbody tr th {\n",
       "        vertical-align: top;\n",
       "    }\n",
       "\n",
       "    .dataframe thead th {\n",
       "        text-align: right;\n",
       "    }\n",
       "</style>\n",
       "<table border=\"1\" class=\"dataframe\">\n",
       "  <thead>\n",
       "    <tr style=\"text-align: right;\">\n",
       "      <th></th>\n",
       "      <th>user_id</th>\n",
       "      <th>timestamp</th>\n",
       "      <th>group</th>\n",
       "      <th>landing_page</th>\n",
       "      <th>converted</th>\n",
       "      <th>intercept</th>\n",
       "      <th>ab_page</th>\n",
       "    </tr>\n",
       "  </thead>\n",
       "  <tbody>\n",
       "    <tr>\n",
       "      <th>0</th>\n",
       "      <td>851104</td>\n",
       "      <td>2017-01-21 22:11:48.556739</td>\n",
       "      <td>control</td>\n",
       "      <td>old_page</td>\n",
       "      <td>0</td>\n",
       "      <td>1</td>\n",
       "      <td>0</td>\n",
       "    </tr>\n",
       "    <tr>\n",
       "      <th>1</th>\n",
       "      <td>804228</td>\n",
       "      <td>2017-01-12 08:01:45.159739</td>\n",
       "      <td>control</td>\n",
       "      <td>old_page</td>\n",
       "      <td>0</td>\n",
       "      <td>1</td>\n",
       "      <td>0</td>\n",
       "    </tr>\n",
       "    <tr>\n",
       "      <th>2</th>\n",
       "      <td>661590</td>\n",
       "      <td>2017-01-11 16:55:06.154213</td>\n",
       "      <td>treatment</td>\n",
       "      <td>new_page</td>\n",
       "      <td>0</td>\n",
       "      <td>1</td>\n",
       "      <td>1</td>\n",
       "    </tr>\n",
       "    <tr>\n",
       "      <th>3</th>\n",
       "      <td>853541</td>\n",
       "      <td>2017-01-08 18:28:03.143765</td>\n",
       "      <td>treatment</td>\n",
       "      <td>new_page</td>\n",
       "      <td>0</td>\n",
       "      <td>1</td>\n",
       "      <td>1</td>\n",
       "    </tr>\n",
       "    <tr>\n",
       "      <th>4</th>\n",
       "      <td>864975</td>\n",
       "      <td>2017-01-21 01:52:26.210827</td>\n",
       "      <td>control</td>\n",
       "      <td>old_page</td>\n",
       "      <td>1</td>\n",
       "      <td>1</td>\n",
       "      <td>0</td>\n",
       "    </tr>\n",
       "  </tbody>\n",
       "</table>\n",
       "</div>"
      ],
      "text/plain": [
       "   user_id                   timestamp      group landing_page  converted  \\\n",
       "0   851104  2017-01-21 22:11:48.556739    control     old_page          0   \n",
       "1   804228  2017-01-12 08:01:45.159739    control     old_page          0   \n",
       "2   661590  2017-01-11 16:55:06.154213  treatment     new_page          0   \n",
       "3   853541  2017-01-08 18:28:03.143765  treatment     new_page          0   \n",
       "4   864975  2017-01-21 01:52:26.210827    control     old_page          1   \n",
       "\n",
       "   intercept  ab_page  \n",
       "0          1        0  \n",
       "1          1        0  \n",
       "2          1        1  \n",
       "3          1        1  \n",
       "4          1        0  "
      ]
     },
     "execution_count": 34,
     "metadata": {},
     "output_type": "execute_result"
    }
   ],
   "source": [
    "df2['intercept'] = 1\n",
    "df2['ab_page'] = pd.get_dummies(df2['group'])['treatment']\n",
    "df2.head()"
   ]
  },
  {
   "cell_type": "markdown",
   "metadata": {},
   "source": [
    "**c.** **statsmodels** 을 사용하여 위의 (b)에서 생성한 두 개의 컬럼을 넣고 회귀 모델을 실행시키자. 그리고 사용자가 전환했는지 아닌지 예측하기 위해서 모델링을 해보자. "
   ]
  },
  {
   "cell_type": "code",
   "execution_count": 35,
   "metadata": {},
   "outputs": [
    {
     "name": "stdout",
     "output_type": "stream",
     "text": [
      "Optimization terminated successfully.\n",
      "         Current function value: 0.366118\n",
      "         Iterations 6\n"
     ]
    }
   ],
   "source": [
    "# 회귀 모델링을 해보자. \n",
    "logis_model = sm.Logit(df2['converted'], df2[['intercept','ab_page']])\n",
    "results = logis_model.fit()"
   ]
  },
  {
   "cell_type": "markdown",
   "metadata": {},
   "source": [
    "**d.** summary를 확인해보자."
   ]
  },
  {
   "cell_type": "code",
   "execution_count": 36,
   "metadata": {},
   "outputs": [
    {
     "data": {
      "text/html": [
       "<table class=\"simpletable\">\n",
       "<tr>\n",
       "        <td>Model:</td>              <td>Logit</td>      <td>Pseudo R-squared:</td>    <td>0.000</td>   \n",
       "</tr>\n",
       "<tr>\n",
       "  <td>Dependent Variable:</td>     <td>converted</td>          <td>AIC:</td>        <td>212780.3502</td>\n",
       "</tr>\n",
       "<tr>\n",
       "         <td>Date:</td>        <td>2022-05-30 15:35</td>       <td>BIC:</td>        <td>212801.5095</td>\n",
       "</tr>\n",
       "<tr>\n",
       "   <td>No. Observations:</td>       <td>290584</td>       <td>Log-Likelihood:</td>  <td>-1.0639e+05</td>\n",
       "</tr>\n",
       "<tr>\n",
       "       <td>Df Model:</td>              <td>1</td>            <td>LL-Null:</td>      <td>-1.0639e+05</td>\n",
       "</tr>\n",
       "<tr>\n",
       "     <td>Df Residuals:</td>         <td>290582</td>        <td>LLR p-value:</td>      <td>0.18988</td>  \n",
       "</tr>\n",
       "<tr>\n",
       "      <td>Converged:</td>           <td>1.0000</td>           <td>Scale:</td>         <td>1.0000</td>   \n",
       "</tr>\n",
       "<tr>\n",
       "    <td>No. Iterations:</td>        <td>6.0000</td>              <td></td>               <td></td>      \n",
       "</tr>\n",
       "</table>\n",
       "<table class=\"simpletable\">\n",
       "<tr>\n",
       "      <td></td>       <th>Coef.</th>  <th>Std.Err.</th>     <th>z</th>      <th>P>|z|</th> <th>[0.025</th>  <th>0.975]</th> \n",
       "</tr>\n",
       "<tr>\n",
       "  <th>intercept</th> <td>-1.9888</td>  <td>0.0081</td>  <td>-246.6690</td> <td>0.0000</td> <td>-2.0046</td> <td>-1.9730</td>\n",
       "</tr>\n",
       "<tr>\n",
       "  <th>ab_page</th>   <td>-0.0150</td>  <td>0.0114</td>   <td>-1.3109</td>  <td>0.1899</td> <td>-0.0374</td> <td>0.0074</td> \n",
       "</tr>\n",
       "</table>"
      ],
      "text/plain": [
       "<class 'statsmodels.iolib.summary2.Summary'>\n",
       "\"\"\"\n",
       "                          Results: Logit\n",
       "==================================================================\n",
       "Model:              Logit            Pseudo R-squared: 0.000      \n",
       "Dependent Variable: converted        AIC:              212780.3502\n",
       "Date:               2022-05-30 15:35 BIC:              212801.5095\n",
       "No. Observations:   290584           Log-Likelihood:   -1.0639e+05\n",
       "Df Model:           1                LL-Null:          -1.0639e+05\n",
       "Df Residuals:       290582           LLR p-value:      0.18988    \n",
       "Converged:          1.0000           Scale:            1.0000     \n",
       "No. Iterations:     6.0000                                        \n",
       "-------------------------------------------------------------------\n",
       "              Coef.   Std.Err.      z      P>|z|    [0.025   0.975]\n",
       "-------------------------------------------------------------------\n",
       "intercept    -1.9888    0.0081  -246.6690  0.0000  -2.0046  -1.9730\n",
       "ab_page      -0.0150    0.0114    -1.3109  0.1899  -0.0374   0.0074\n",
       "==================================================================\n",
       "\n",
       "\"\"\""
      ]
     },
     "execution_count": 36,
     "metadata": {},
     "output_type": "execute_result"
    }
   ],
   "source": [
    "# summary2 메소드 사용\n",
    "results.summary2()"
   ]
  },
  {
   "cell_type": "markdown",
   "metadata": {},
   "source": [
    "여기서 한가지 짚고 넘어갈 점은, 앞서 A/B 테스트 방법을 이용한 **Part II** 에서는 귀무가설과 대립가설이 각각 아래와 같고\n",
    "\n",
    "- **$H_0$** (귀무가설) : **$p_{new}$** $≤$ **$p_{old}$**\n",
    "- **$H_1$** (대립가설) : **$p_{new}$** $>$ **$p_{old}$**   \n",
    "\n",
    "이 경우, **단측검정** 이라는 점이다.\n",
    "\n",
    "반면, 지금과 같이 로지스틱 회귀 모델을 이용한 **Part III** 에서는 귀무가설과 대립가설이 각각 아래와 같고\n",
    "\n",
    "- **$H_0$** (귀무가설) : **$p_{new}$** $=$ **$p_{old}$**\n",
    "- **$H_1$** (대립가설) : **$p_{new}$** $≠$ **$p_{old}$** \n",
    "\n",
    "이 경우, **양측검정** 이다.   \n",
    "\n",
    "따라서 앞서 Part II에서 구한 p-value와는 차이가 있는 것을 볼 수 있다. \n",
    "그렇지만 여기서 구한 p-value 값 **0.1899**는 여전히 제 1종 오류의 유의수준인 **0.05** 보다 크다는 점에서 귀무가설을 기각할 수 없다. \n",
    "\n",
    "로지스틱 회귀 모델링을 통한 귀무가설 검정 방법에 대해서는 [여기](https://www.statology.org/null-hypothesis-of-logistic-regression/)를 참고하였다. \n",
    "\n",
    "위 글에 따르면, \n",
    "\n",
    ">_\"귀무가설은 계수(β1)가 0이라는 것을 의미한다. 즉, 예측변수 x와 반응변수 y사이에 통계적으로 유의한 관계가 없다는 것이다._   \n",
    ">_대립가설은 계수(β1)가 0이 아니라는 것을 의미한다. 즉, 예측변수 x와 반응변수 y사이에 통계적으로 유의한 관계가 있다는 것을 말한다.\"_\n"
   ]
  },
  {
   "cell_type": "markdown",
   "metadata": {},
   "source": [
    "**f.** Now, let's consider other things that might influence whether or not an individual converts.  I will discuss why it is a good idea to consider other factors to add into my regression model.  Are there any disadvantages to adding additional terms into my regression model?"
   ]
  },
  {
   "cell_type": "markdown",
   "metadata": {},
   "source": [
    "Since it seems that there is no relationship between `converted` and the `group`, we need to consider if there is other things that affects the dependent variable, `converted` along with the `group` variable.   \n",
    "\n",
    "If their combined effect on the dependent variable, which is `converted`, is ignored then the results that we get can be biased (technically known as omitted variable bias).\n",
    "\n",
    "However, including too many variables in the model can lead to a problem called Multicollinearity.   \n",
    "The more variables included in the model, typically, the less independent variation there will be for each of the individual variables. "
   ]
  },
  {
   "cell_type": "markdown",
   "metadata": {},
   "source": [
    "**g. Adding countries**<br> \n",
    "Now along with testing if the conversion rate changes for different pages, I will also add an effect based on which country a user lives in. \n",
    "\n",
    "1. I will need to read in the **countries.csv** dataset and merge together the `df2` datasets on the appropriate rows. We call the resulting dataframe `df_merged`. [Here](https://pandas.pydata.org/pandas-docs/stable/reference/api/pandas.DataFrame.join.html) are the docs for joining tables. \n",
    "\n",
    "2. Does it appear that country had an impact on conversion?  To answer this question, I will consider the three unique values, `['UK', 'US', 'CA']`, in the `country` column. Then I will create dummy variables for these country columns. \n"
   ]
  },
  {
   "cell_type": "code",
   "execution_count": 37,
   "metadata": {},
   "outputs": [
    {
     "data": {
      "text/html": [
       "<div>\n",
       "<style scoped>\n",
       "    .dataframe tbody tr th:only-of-type {\n",
       "        vertical-align: middle;\n",
       "    }\n",
       "\n",
       "    .dataframe tbody tr th {\n",
       "        vertical-align: top;\n",
       "    }\n",
       "\n",
       "    .dataframe thead th {\n",
       "        text-align: right;\n",
       "    }\n",
       "</style>\n",
       "<table border=\"1\" class=\"dataframe\">\n",
       "  <thead>\n",
       "    <tr style=\"text-align: right;\">\n",
       "      <th></th>\n",
       "      <th>user_id</th>\n",
       "      <th>country</th>\n",
       "    </tr>\n",
       "  </thead>\n",
       "  <tbody>\n",
       "    <tr>\n",
       "      <th>0</th>\n",
       "      <td>834778</td>\n",
       "      <td>UK</td>\n",
       "    </tr>\n",
       "    <tr>\n",
       "      <th>1</th>\n",
       "      <td>928468</td>\n",
       "      <td>US</td>\n",
       "    </tr>\n",
       "    <tr>\n",
       "      <th>2</th>\n",
       "      <td>822059</td>\n",
       "      <td>UK</td>\n",
       "    </tr>\n",
       "    <tr>\n",
       "      <th>3</th>\n",
       "      <td>711597</td>\n",
       "      <td>UK</td>\n",
       "    </tr>\n",
       "    <tr>\n",
       "      <th>4</th>\n",
       "      <td>710616</td>\n",
       "      <td>UK</td>\n",
       "    </tr>\n",
       "  </tbody>\n",
       "</table>\n",
       "</div>"
      ],
      "text/plain": [
       "   user_id country\n",
       "0   834778      UK\n",
       "1   928468      US\n",
       "2   822059      UK\n",
       "3   711597      UK\n",
       "4   710616      UK"
      ]
     },
     "execution_count": 37,
     "metadata": {},
     "output_type": "execute_result"
    }
   ],
   "source": [
    "# Read the countries.csv\n",
    "df_coun = pd.read_csv('countries.csv')\n",
    "df_coun.head()"
   ]
  },
  {
   "cell_type": "code",
   "execution_count": 38,
   "metadata": {
    "scrolled": true
   },
   "outputs": [
    {
     "data": {
      "text/html": [
       "<div>\n",
       "<style scoped>\n",
       "    .dataframe tbody tr th:only-of-type {\n",
       "        vertical-align: middle;\n",
       "    }\n",
       "\n",
       "    .dataframe tbody tr th {\n",
       "        vertical-align: top;\n",
       "    }\n",
       "\n",
       "    .dataframe thead th {\n",
       "        text-align: right;\n",
       "    }\n",
       "</style>\n",
       "<table border=\"1\" class=\"dataframe\">\n",
       "  <thead>\n",
       "    <tr style=\"text-align: right;\">\n",
       "      <th></th>\n",
       "      <th>user_id</th>\n",
       "      <th>timestamp</th>\n",
       "      <th>group</th>\n",
       "      <th>landing_page</th>\n",
       "      <th>converted</th>\n",
       "      <th>intercept</th>\n",
       "      <th>ab_page</th>\n",
       "      <th>country</th>\n",
       "    </tr>\n",
       "  </thead>\n",
       "  <tbody>\n",
       "    <tr>\n",
       "      <th>0</th>\n",
       "      <td>851104</td>\n",
       "      <td>2017-01-21 22:11:48.556739</td>\n",
       "      <td>control</td>\n",
       "      <td>old_page</td>\n",
       "      <td>0</td>\n",
       "      <td>1</td>\n",
       "      <td>0</td>\n",
       "      <td>US</td>\n",
       "    </tr>\n",
       "    <tr>\n",
       "      <th>1</th>\n",
       "      <td>804228</td>\n",
       "      <td>2017-01-12 08:01:45.159739</td>\n",
       "      <td>control</td>\n",
       "      <td>old_page</td>\n",
       "      <td>0</td>\n",
       "      <td>1</td>\n",
       "      <td>0</td>\n",
       "      <td>US</td>\n",
       "    </tr>\n",
       "    <tr>\n",
       "      <th>2</th>\n",
       "      <td>661590</td>\n",
       "      <td>2017-01-11 16:55:06.154213</td>\n",
       "      <td>treatment</td>\n",
       "      <td>new_page</td>\n",
       "      <td>0</td>\n",
       "      <td>1</td>\n",
       "      <td>1</td>\n",
       "      <td>US</td>\n",
       "    </tr>\n",
       "    <tr>\n",
       "      <th>3</th>\n",
       "      <td>853541</td>\n",
       "      <td>2017-01-08 18:28:03.143765</td>\n",
       "      <td>treatment</td>\n",
       "      <td>new_page</td>\n",
       "      <td>0</td>\n",
       "      <td>1</td>\n",
       "      <td>1</td>\n",
       "      <td>US</td>\n",
       "    </tr>\n",
       "    <tr>\n",
       "      <th>4</th>\n",
       "      <td>864975</td>\n",
       "      <td>2017-01-21 01:52:26.210827</td>\n",
       "      <td>control</td>\n",
       "      <td>old_page</td>\n",
       "      <td>1</td>\n",
       "      <td>1</td>\n",
       "      <td>0</td>\n",
       "      <td>US</td>\n",
       "    </tr>\n",
       "  </tbody>\n",
       "</table>\n",
       "</div>"
      ],
      "text/plain": [
       "   user_id                   timestamp      group landing_page  converted  \\\n",
       "0   851104  2017-01-21 22:11:48.556739    control     old_page          0   \n",
       "1   804228  2017-01-12 08:01:45.159739    control     old_page          0   \n",
       "2   661590  2017-01-11 16:55:06.154213  treatment     new_page          0   \n",
       "3   853541  2017-01-08 18:28:03.143765  treatment     new_page          0   \n",
       "4   864975  2017-01-21 01:52:26.210827    control     old_page          1   \n",
       "\n",
       "   intercept  ab_page country  \n",
       "0          1        0      US  \n",
       "1          1        0      US  \n",
       "2          1        1      US  \n",
       "3          1        1      US  \n",
       "4          1        0      US  "
      ]
     },
     "execution_count": 38,
     "metadata": {},
     "output_type": "execute_result"
    }
   ],
   "source": [
    "# Join with the df2 dataframe\n",
    "df_merged = df2.join(df_coun.set_index('user_id'), on='user_id')\n",
    "df_merged.head()"
   ]
  },
  {
   "cell_type": "code",
   "execution_count": 39,
   "metadata": {},
   "outputs": [
    {
     "data": {
      "text/html": [
       "<div>\n",
       "<style scoped>\n",
       "    .dataframe tbody tr th:only-of-type {\n",
       "        vertical-align: middle;\n",
       "    }\n",
       "\n",
       "    .dataframe tbody tr th {\n",
       "        vertical-align: top;\n",
       "    }\n",
       "\n",
       "    .dataframe thead th {\n",
       "        text-align: right;\n",
       "    }\n",
       "</style>\n",
       "<table border=\"1\" class=\"dataframe\">\n",
       "  <thead>\n",
       "    <tr style=\"text-align: right;\">\n",
       "      <th></th>\n",
       "      <th>user_id</th>\n",
       "      <th>timestamp</th>\n",
       "      <th>group</th>\n",
       "      <th>landing_page</th>\n",
       "      <th>converted</th>\n",
       "      <th>intercept</th>\n",
       "      <th>ab_page</th>\n",
       "      <th>country</th>\n",
       "      <th>CA</th>\n",
       "      <th>UK</th>\n",
       "      <th>US</th>\n",
       "    </tr>\n",
       "  </thead>\n",
       "  <tbody>\n",
       "    <tr>\n",
       "      <th>0</th>\n",
       "      <td>851104</td>\n",
       "      <td>2017-01-21 22:11:48.556739</td>\n",
       "      <td>control</td>\n",
       "      <td>old_page</td>\n",
       "      <td>0</td>\n",
       "      <td>1</td>\n",
       "      <td>0</td>\n",
       "      <td>US</td>\n",
       "      <td>0</td>\n",
       "      <td>0</td>\n",
       "      <td>1</td>\n",
       "    </tr>\n",
       "    <tr>\n",
       "      <th>1</th>\n",
       "      <td>804228</td>\n",
       "      <td>2017-01-12 08:01:45.159739</td>\n",
       "      <td>control</td>\n",
       "      <td>old_page</td>\n",
       "      <td>0</td>\n",
       "      <td>1</td>\n",
       "      <td>0</td>\n",
       "      <td>US</td>\n",
       "      <td>0</td>\n",
       "      <td>0</td>\n",
       "      <td>1</td>\n",
       "    </tr>\n",
       "    <tr>\n",
       "      <th>2</th>\n",
       "      <td>661590</td>\n",
       "      <td>2017-01-11 16:55:06.154213</td>\n",
       "      <td>treatment</td>\n",
       "      <td>new_page</td>\n",
       "      <td>0</td>\n",
       "      <td>1</td>\n",
       "      <td>1</td>\n",
       "      <td>US</td>\n",
       "      <td>0</td>\n",
       "      <td>0</td>\n",
       "      <td>1</td>\n",
       "    </tr>\n",
       "    <tr>\n",
       "      <th>3</th>\n",
       "      <td>853541</td>\n",
       "      <td>2017-01-08 18:28:03.143765</td>\n",
       "      <td>treatment</td>\n",
       "      <td>new_page</td>\n",
       "      <td>0</td>\n",
       "      <td>1</td>\n",
       "      <td>1</td>\n",
       "      <td>US</td>\n",
       "      <td>0</td>\n",
       "      <td>0</td>\n",
       "      <td>1</td>\n",
       "    </tr>\n",
       "    <tr>\n",
       "      <th>4</th>\n",
       "      <td>864975</td>\n",
       "      <td>2017-01-21 01:52:26.210827</td>\n",
       "      <td>control</td>\n",
       "      <td>old_page</td>\n",
       "      <td>1</td>\n",
       "      <td>1</td>\n",
       "      <td>0</td>\n",
       "      <td>US</td>\n",
       "      <td>0</td>\n",
       "      <td>0</td>\n",
       "      <td>1</td>\n",
       "    </tr>\n",
       "  </tbody>\n",
       "</table>\n",
       "</div>"
      ],
      "text/plain": [
       "   user_id                   timestamp      group landing_page  converted  \\\n",
       "0   851104  2017-01-21 22:11:48.556739    control     old_page          0   \n",
       "1   804228  2017-01-12 08:01:45.159739    control     old_page          0   \n",
       "2   661590  2017-01-11 16:55:06.154213  treatment     new_page          0   \n",
       "3   853541  2017-01-08 18:28:03.143765  treatment     new_page          0   \n",
       "4   864975  2017-01-21 01:52:26.210827    control     old_page          1   \n",
       "\n",
       "   intercept  ab_page country  CA  UK  US  \n",
       "0          1        0      US   0   0   1  \n",
       "1          1        0      US   0   0   1  \n",
       "2          1        1      US   0   0   1  \n",
       "3          1        1      US   0   0   1  \n",
       "4          1        0      US   0   0   1  "
      ]
     },
     "execution_count": 39,
     "metadata": {},
     "output_type": "execute_result"
    }
   ],
   "source": [
    "# Create the necessary dummy variables\n",
    "df_merged = df_merged.join(pd.get_dummies(df_merged['country']))\n",
    "df_merged.head()"
   ]
  },
  {
   "cell_type": "code",
   "execution_count": 40,
   "metadata": {
    "scrolled": false
   },
   "outputs": [
    {
     "name": "stdout",
     "output_type": "stream",
     "text": [
      "Optimization terminated successfully.\n",
      "         Current function value: 0.366113\n",
      "         Iterations 6\n"
     ]
    },
    {
     "data": {
      "text/html": [
       "<table class=\"simpletable\">\n",
       "<tr>\n",
       "        <td>Model:</td>              <td>Logit</td>      <td>Pseudo R-squared:</td>    <td>0.000</td>   \n",
       "</tr>\n",
       "<tr>\n",
       "  <td>Dependent Variable:</td>     <td>converted</td>          <td>AIC:</td>        <td>212781.1253</td>\n",
       "</tr>\n",
       "<tr>\n",
       "         <td>Date:</td>        <td>2022-05-30 15:35</td>       <td>BIC:</td>        <td>212823.4439</td>\n",
       "</tr>\n",
       "<tr>\n",
       "   <td>No. Observations:</td>       <td>290584</td>       <td>Log-Likelihood:</td>  <td>-1.0639e+05</td>\n",
       "</tr>\n",
       "<tr>\n",
       "       <td>Df Model:</td>              <td>3</td>            <td>LL-Null:</td>      <td>-1.0639e+05</td>\n",
       "</tr>\n",
       "<tr>\n",
       "     <td>Df Residuals:</td>         <td>290580</td>        <td>LLR p-value:</td>      <td>0.17599</td>  \n",
       "</tr>\n",
       "<tr>\n",
       "      <td>Converged:</td>           <td>1.0000</td>           <td>Scale:</td>         <td>1.0000</td>   \n",
       "</tr>\n",
       "<tr>\n",
       "    <td>No. Iterations:</td>        <td>6.0000</td>              <td></td>               <td></td>      \n",
       "</tr>\n",
       "</table>\n",
       "<table class=\"simpletable\">\n",
       "<tr>\n",
       "      <td></td>       <th>Coef.</th>  <th>Std.Err.</th>     <th>z</th>     <th>P>|z|</th> <th>[0.025</th>  <th>0.975]</th> \n",
       "</tr>\n",
       "<tr>\n",
       "  <th>intercept</th> <td>-2.0300</td>  <td>0.0266</td>  <td>-76.2488</td> <td>0.0000</td> <td>-2.0822</td> <td>-1.9778</td>\n",
       "</tr>\n",
       "<tr>\n",
       "  <th>ab_page</th>   <td>-0.0149</td>  <td>0.0114</td>   <td>-1.3069</td> <td>0.1912</td> <td>-0.0374</td> <td>0.0075</td> \n",
       "</tr>\n",
       "<tr>\n",
       "  <th>US</th>        <td>0.0408</td>   <td>0.0269</td>   <td>1.5161</td>  <td>0.1295</td> <td>-0.0119</td> <td>0.0934</td> \n",
       "</tr>\n",
       "<tr>\n",
       "  <th>UK</th>        <td>0.0506</td>   <td>0.0284</td>   <td>1.7835</td>  <td>0.0745</td> <td>-0.0050</td> <td>0.1063</td> \n",
       "</tr>\n",
       "</table>"
      ],
      "text/plain": [
       "<class 'statsmodels.iolib.summary2.Summary'>\n",
       "\"\"\"\n",
       "                          Results: Logit\n",
       "==================================================================\n",
       "Model:              Logit            Pseudo R-squared: 0.000      \n",
       "Dependent Variable: converted        AIC:              212781.1253\n",
       "Date:               2022-05-30 15:35 BIC:              212823.4439\n",
       "No. Observations:   290584           Log-Likelihood:   -1.0639e+05\n",
       "Df Model:           3                LL-Null:          -1.0639e+05\n",
       "Df Residuals:       290580           LLR p-value:      0.17599    \n",
       "Converged:          1.0000           Scale:            1.0000     \n",
       "No. Iterations:     6.0000                                        \n",
       "-------------------------------------------------------------------\n",
       "               Coef.   Std.Err.     z      P>|z|    [0.025   0.975]\n",
       "-------------------------------------------------------------------\n",
       "intercept     -2.0300    0.0266  -76.2488  0.0000  -2.0822  -1.9778\n",
       "ab_page       -0.0149    0.0114   -1.3069  0.1912  -0.0374   0.0075\n",
       "US             0.0408    0.0269    1.5161  0.1295  -0.0119   0.0934\n",
       "UK             0.0506    0.0284    1.7835  0.0745  -0.0050   0.1063\n",
       "==================================================================\n",
       "\n",
       "\"\"\""
      ]
     },
     "execution_count": 40,
     "metadata": {},
     "output_type": "execute_result"
    }
   ],
   "source": [
    "# Fit the model, and summarize the results\n",
    "country_model = sm.Logit(df_merged['converted'], df_merged[['intercept', 'ab_page', 'US', 'UK']])\n",
    "country_result = country_model.fit()\n",
    "country_result.summary2()"
   ]
  },
  {
   "cell_type": "code",
   "execution_count": 41,
   "metadata": {},
   "outputs": [
    {
     "data": {
      "text/plain": [
       "intercept    0.131332\n",
       "ab_page      0.985168\n",
       "US           1.041599\n",
       "UK           1.051944\n",
       "dtype: float64"
      ]
     },
     "execution_count": 41,
     "metadata": {},
     "output_type": "execute_result"
    }
   ],
   "source": [
    "# Exponentiate the coefficents from the summary \n",
    "np.exp(country_result.params)"
   ]
  },
  {
   "cell_type": "markdown",
   "metadata": {},
   "source": [
    "Looking at all p-values in the summary, all the p-values are **greater** than the _Type I Error rate_ of 0.05.     \n",
    "So I can conclude that this logistic model is **NOT statistically significant** and there is no relationship between conversion rate and country either.   \n",
    "\n",
    "With coefficient values above, I can add\n",
    "\n",
    "- For every unit for UK user, conversion is 1% more likely to happen compared to CA user, holding all other variables constant.    \n",
    "- For every unit for US user, conversion is 1% more likely to happen compared to CA user, holding all other variables constant.     \n",
    "\n",
    "But these findings are not practically significant as well.\n"
   ]
  },
  {
   "cell_type": "markdown",
   "metadata": {},
   "source": [
    "**h. Fit the model and obtain the results**<br> \n",
    "Though we have now looked at the individual factors of country and page on conversion, we would now like to look at an **interaction between page and country** to see if there are significant effects on conversion.  \n",
    "\n",
    "First, I will create the necessary additional columns for interactive dummy variables, and fit the new model.   \n",
    "These are simply created by multiplying the country and treatment dummy variables - for each country -.    "
   ]
  },
  {
   "cell_type": "code",
   "execution_count": 42,
   "metadata": {},
   "outputs": [
    {
     "data": {
      "text/html": [
       "<div>\n",
       "<style scoped>\n",
       "    .dataframe tbody tr th:only-of-type {\n",
       "        vertical-align: middle;\n",
       "    }\n",
       "\n",
       "    .dataframe tbody tr th {\n",
       "        vertical-align: top;\n",
       "    }\n",
       "\n",
       "    .dataframe thead th {\n",
       "        text-align: right;\n",
       "    }\n",
       "</style>\n",
       "<table border=\"1\" class=\"dataframe\">\n",
       "  <thead>\n",
       "    <tr style=\"text-align: right;\">\n",
       "      <th></th>\n",
       "      <th>user_id</th>\n",
       "      <th>timestamp</th>\n",
       "      <th>group</th>\n",
       "      <th>landing_page</th>\n",
       "      <th>converted</th>\n",
       "      <th>intercept</th>\n",
       "      <th>ab_page</th>\n",
       "      <th>country</th>\n",
       "      <th>CA</th>\n",
       "      <th>UK</th>\n",
       "      <th>US</th>\n",
       "      <th>US-inter</th>\n",
       "      <th>UK-inter</th>\n",
       "      <th>CA-inter</th>\n",
       "    </tr>\n",
       "  </thead>\n",
       "  <tbody>\n",
       "    <tr>\n",
       "      <th>0</th>\n",
       "      <td>851104</td>\n",
       "      <td>2017-01-21 22:11:48.556739</td>\n",
       "      <td>control</td>\n",
       "      <td>old_page</td>\n",
       "      <td>0</td>\n",
       "      <td>1</td>\n",
       "      <td>0</td>\n",
       "      <td>US</td>\n",
       "      <td>0</td>\n",
       "      <td>0</td>\n",
       "      <td>1</td>\n",
       "      <td>0</td>\n",
       "      <td>0</td>\n",
       "      <td>0</td>\n",
       "    </tr>\n",
       "    <tr>\n",
       "      <th>1</th>\n",
       "      <td>804228</td>\n",
       "      <td>2017-01-12 08:01:45.159739</td>\n",
       "      <td>control</td>\n",
       "      <td>old_page</td>\n",
       "      <td>0</td>\n",
       "      <td>1</td>\n",
       "      <td>0</td>\n",
       "      <td>US</td>\n",
       "      <td>0</td>\n",
       "      <td>0</td>\n",
       "      <td>1</td>\n",
       "      <td>0</td>\n",
       "      <td>0</td>\n",
       "      <td>0</td>\n",
       "    </tr>\n",
       "    <tr>\n",
       "      <th>2</th>\n",
       "      <td>661590</td>\n",
       "      <td>2017-01-11 16:55:06.154213</td>\n",
       "      <td>treatment</td>\n",
       "      <td>new_page</td>\n",
       "      <td>0</td>\n",
       "      <td>1</td>\n",
       "      <td>1</td>\n",
       "      <td>US</td>\n",
       "      <td>0</td>\n",
       "      <td>0</td>\n",
       "      <td>1</td>\n",
       "      <td>1</td>\n",
       "      <td>0</td>\n",
       "      <td>0</td>\n",
       "    </tr>\n",
       "    <tr>\n",
       "      <th>3</th>\n",
       "      <td>853541</td>\n",
       "      <td>2017-01-08 18:28:03.143765</td>\n",
       "      <td>treatment</td>\n",
       "      <td>new_page</td>\n",
       "      <td>0</td>\n",
       "      <td>1</td>\n",
       "      <td>1</td>\n",
       "      <td>US</td>\n",
       "      <td>0</td>\n",
       "      <td>0</td>\n",
       "      <td>1</td>\n",
       "      <td>1</td>\n",
       "      <td>0</td>\n",
       "      <td>0</td>\n",
       "    </tr>\n",
       "    <tr>\n",
       "      <th>4</th>\n",
       "      <td>864975</td>\n",
       "      <td>2017-01-21 01:52:26.210827</td>\n",
       "      <td>control</td>\n",
       "      <td>old_page</td>\n",
       "      <td>1</td>\n",
       "      <td>1</td>\n",
       "      <td>0</td>\n",
       "      <td>US</td>\n",
       "      <td>0</td>\n",
       "      <td>0</td>\n",
       "      <td>1</td>\n",
       "      <td>0</td>\n",
       "      <td>0</td>\n",
       "      <td>0</td>\n",
       "    </tr>\n",
       "  </tbody>\n",
       "</table>\n",
       "</div>"
      ],
      "text/plain": [
       "   user_id                   timestamp      group landing_page  converted  \\\n",
       "0   851104  2017-01-21 22:11:48.556739    control     old_page          0   \n",
       "1   804228  2017-01-12 08:01:45.159739    control     old_page          0   \n",
       "2   661590  2017-01-11 16:55:06.154213  treatment     new_page          0   \n",
       "3   853541  2017-01-08 18:28:03.143765  treatment     new_page          0   \n",
       "4   864975  2017-01-21 01:52:26.210827    control     old_page          1   \n",
       "\n",
       "   intercept  ab_page country  CA  UK  US  US-inter  UK-inter  CA-inter  \n",
       "0          1        0      US   0   0   1         0         0         0  \n",
       "1          1        0      US   0   0   1         0         0         0  \n",
       "2          1        1      US   0   0   1         1         0         0  \n",
       "3          1        1      US   0   0   1         1         0         0  \n",
       "4          1        0      US   0   0   1         0         0         0  "
      ]
     },
     "execution_count": 42,
     "metadata": {},
     "output_type": "execute_result"
    }
   ],
   "source": [
    "# Add interactive dummy variables. \n",
    "df_merged['US-inter'] = df_merged['US']*df_merged['ab_page']\n",
    "df_merged['UK-inter'] = df_merged['UK']*df_merged['ab_page']\n",
    "df_merged['CA-inter'] = df_merged['CA']*df_merged['ab_page']\n",
    "df_merged.head()"
   ]
  },
  {
   "cell_type": "code",
   "execution_count": 43,
   "metadata": {},
   "outputs": [
    {
     "name": "stdout",
     "output_type": "stream",
     "text": [
      "Optimization terminated successfully.\n",
      "         Current function value: 0.366109\n",
      "         Iterations 6\n"
     ]
    },
    {
     "data": {
      "text/html": [
       "<table class=\"simpletable\">\n",
       "<tr>\n",
       "        <td>Model:</td>              <td>Logit</td>      <td>Pseudo R-squared:</td>    <td>0.000</td>   \n",
       "</tr>\n",
       "<tr>\n",
       "  <td>Dependent Variable:</td>     <td>converted</td>          <td>AIC:</td>        <td>212782.6602</td>\n",
       "</tr>\n",
       "<tr>\n",
       "         <td>Date:</td>        <td>2022-05-30 15:35</td>       <td>BIC:</td>        <td>212846.1381</td>\n",
       "</tr>\n",
       "<tr>\n",
       "   <td>No. Observations:</td>       <td>290584</td>       <td>Log-Likelihood:</td>  <td>-1.0639e+05</td>\n",
       "</tr>\n",
       "<tr>\n",
       "       <td>Df Model:</td>              <td>5</td>            <td>LL-Null:</td>      <td>-1.0639e+05</td>\n",
       "</tr>\n",
       "<tr>\n",
       "     <td>Df Residuals:</td>         <td>290578</td>        <td>LLR p-value:</td>      <td>0.19199</td>  \n",
       "</tr>\n",
       "<tr>\n",
       "      <td>Converged:</td>           <td>1.0000</td>           <td>Scale:</td>         <td>1.0000</td>   \n",
       "</tr>\n",
       "<tr>\n",
       "    <td>No. Iterations:</td>        <td>6.0000</td>              <td></td>               <td></td>      \n",
       "</tr>\n",
       "</table>\n",
       "<table class=\"simpletable\">\n",
       "<tr>\n",
       "      <td></td>       <th>Coef.</th>  <th>Std.Err.</th>     <th>z</th>     <th>P>|z|</th> <th>[0.025</th>  <th>0.975]</th> \n",
       "</tr>\n",
       "<tr>\n",
       "  <th>intercept</th> <td>-2.0040</td>  <td>0.0364</td>  <td>-55.0077</td> <td>0.0000</td> <td>-2.0754</td> <td>-1.9326</td>\n",
       "</tr>\n",
       "<tr>\n",
       "  <th>ab_page</th>   <td>-0.0674</td>  <td>0.0520</td>   <td>-1.2967</td> <td>0.1947</td> <td>-0.1694</td> <td>0.0345</td> \n",
       "</tr>\n",
       "<tr>\n",
       "  <th>US</th>        <td>0.0175</td>   <td>0.0377</td>   <td>0.4652</td>  <td>0.6418</td> <td>-0.0563</td> <td>0.0914</td> \n",
       "</tr>\n",
       "<tr>\n",
       "  <th>UK</th>        <td>0.0118</td>   <td>0.0398</td>   <td>0.2957</td>  <td>0.7674</td> <td>-0.0663</td> <td>0.0899</td> \n",
       "</tr>\n",
       "<tr>\n",
       "  <th>US-inter</th>  <td>0.0469</td>   <td>0.0538</td>   <td>0.8718</td>  <td>0.3833</td> <td>-0.0585</td> <td>0.1523</td> \n",
       "</tr>\n",
       "<tr>\n",
       "  <th>UK-inter</th>  <td>0.0783</td>   <td>0.0568</td>   <td>1.3783</td>  <td>0.1681</td> <td>-0.0330</td> <td>0.1896</td> \n",
       "</tr>\n",
       "</table>"
      ],
      "text/plain": [
       "<class 'statsmodels.iolib.summary2.Summary'>\n",
       "\"\"\"\n",
       "                          Results: Logit\n",
       "==================================================================\n",
       "Model:              Logit            Pseudo R-squared: 0.000      \n",
       "Dependent Variable: converted        AIC:              212782.6602\n",
       "Date:               2022-05-30 15:35 BIC:              212846.1381\n",
       "No. Observations:   290584           Log-Likelihood:   -1.0639e+05\n",
       "Df Model:           5                LL-Null:          -1.0639e+05\n",
       "Df Residuals:       290578           LLR p-value:      0.19199    \n",
       "Converged:          1.0000           Scale:            1.0000     \n",
       "No. Iterations:     6.0000                                        \n",
       "-------------------------------------------------------------------\n",
       "               Coef.   Std.Err.     z      P>|z|    [0.025   0.975]\n",
       "-------------------------------------------------------------------\n",
       "intercept     -2.0040    0.0364  -55.0077  0.0000  -2.0754  -1.9326\n",
       "ab_page       -0.0674    0.0520   -1.2967  0.1947  -0.1694   0.0345\n",
       "US             0.0175    0.0377    0.4652  0.6418  -0.0563   0.0914\n",
       "UK             0.0118    0.0398    0.2957  0.7674  -0.0663   0.0899\n",
       "US-inter       0.0469    0.0538    0.8718  0.3833  -0.0585   0.1523\n",
       "UK-inter       0.0783    0.0568    1.3783  0.1681  -0.0330   0.1896\n",
       "==================================================================\n",
       "\n",
       "\"\"\""
      ]
     },
     "execution_count": 43,
     "metadata": {},
     "output_type": "execute_result"
    }
   ],
   "source": [
    "# Fit the model, and summarize the results\n",
    "country_inter_model = sm.Logit(df_merged['converted'], df_merged[['intercept', 'ab_page', 'US', 'UK', 'US-inter', 'UK-inter']])\n",
    "country_inter_results = country_inter_model.fit()\n",
    "country_inter_results.summary2()"
   ]
  },
  {
   "cell_type": "code",
   "execution_count": 44,
   "metadata": {},
   "outputs": [
    {
     "data": {
      "text/plain": [
       "intercept    0.134794\n",
       "ab_page      0.934776\n",
       "US           1.017682\n",
       "UK           1.011854\n",
       "US-inter     1.048001\n",
       "UK-inter     1.081428\n",
       "dtype: float64"
      ]
     },
     "execution_count": 44,
     "metadata": {},
     "output_type": "execute_result"
    }
   ],
   "source": [
    "# Exponentiate the coefficents from the summary \n",
    "np.exp(country_inter_results.params)"
   ]
  },
  {
   "cell_type": "markdown",
   "metadata": {},
   "source": [
    "Looking at all p-values in the summary, all the p-values here are also **greater** than the _Type I Error rate_ of 0.05.**   \n",
    "So I can conclude that this logistic model is also **NOT statistically significant** and there is no interaction between page and country, and conversion rate and page+country as well.   \n",
    "\n",
    "With coefficient values above, I can add\n",
    "\n",
    "- For every unit for UK user + new page, conversion is 1% more likely to happen compared to CA user, holding all other variables constant.    \n",
    "- For every unit for US user + new page, conversion is 1% more likely to happen compared to CA user, holding all other variables constant.     \n",
    "\n",
    "But these findings are not practically significant as well."
   ]
  },
  {
   "cell_type": "markdown",
   "metadata": {},
   "source": [
    "<a id='conclusions'></a>\n",
    "## 결론"
   ]
  },
  {
   "cell_type": "markdown",
   "metadata": {},
   "source": [
    "결론적으로, 표본 분포 및 로지스틱 회귀 모델을 통한 방법에서 귀무가설을 기각할 그 어떤 증거도 찾지 못했다.   \n",
    "각 단계의 모든 분석에서, p-value는 제 1종 오류의 유의수준인 0.05보다 큰 값이었고, 이것은 귀무가설을 기각할 수 없다는 것을 의미한다. \n",
    "\n",
    "또한, 로지스틱 회귀 모델링에 사용자의 `countries(나라)` 라는 추가적인 정보를 이용해 종속변수인 `converted(전환여부)` 와 어떤 상관관계가 있는지 확인하려고 했지만, `countries(나라)` 변수도, `countries(나라)`와 `ab_page(실험군여부)`를 합친 결합 변수도 전환율과 관계가 있다는 그 어떤 증거도 찾을 수 없었다. \n",
    "\n",
    "따라서, 결론적으로 **귀무가설을 기각할 수 없고**, **새로운 페이지가 기존 페이지보다 더 낫지 않다**고 말할 수 있다. "
   ]
  }
 ],
 "metadata": {
  "kernelspec": {
   "display_name": "Python 3 (ipykernel)",
   "language": "python",
   "name": "python3"
  },
  "language_info": {
   "codemirror_mode": {
    "name": "ipython",
    "version": 3
   },
   "file_extension": ".py",
   "mimetype": "text/x-python",
   "name": "python",
   "nbconvert_exporter": "python",
   "pygments_lexer": "ipython3",
   "version": "3.9.7"
  }
 },
 "nbformat": 4,
 "nbformat_minor": 2
}
