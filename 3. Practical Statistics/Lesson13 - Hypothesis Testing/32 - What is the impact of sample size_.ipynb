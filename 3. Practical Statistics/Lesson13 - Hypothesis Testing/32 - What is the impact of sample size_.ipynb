{
 "cells": [
  {
   "cell_type": "markdown",
   "metadata": {},
   "source": [
    "### The Impact of Large Sample Sizes\n",
    "\n",
    "When we increase our sample size, even the smallest of differences may seem significant.  \n",
    "\n",
    "To illustrate this point, work through this notebook and the quiz questions that follow below.\n",
    "\n",
    "Start by reading in the libraries and data."
   ]
  },
  {
   "cell_type": "code",
   "execution_count": 2,
   "metadata": {},
   "outputs": [],
   "source": [
    "import pandas as pd\n",
    "import numpy as np\n",
    "import matplotlib.pyplot as plt\n",
    "\n",
    "%matplotlib inline\n",
    "np.random.seed(42)\n",
    "\n",
    "full_data = pd.read_csv('coffee_dataset.csv')"
   ]
  },
  {
   "cell_type": "markdown",
   "metadata": {},
   "source": [
    "`1.` In this case, imagine we are interested in testing if the mean height of all individuals in `full_data` is equal to 67.60 inches or **different** than 67.60.  First, use **quiz 1** below to state the null and alternative hypotheses for these cases in the cell below. "
   ]
  },
  {
   "cell_type": "markdown",
   "metadata": {},
   "source": [
    "- Null : The mean height of everyone in the population is equal to 67.60.\n",
    "- Alternative : The mean height of everyone in the population is not equal to 67.60. \n",
    "\n",
    "\n"
   ]
  },
  {
   "cell_type": "markdown",
   "metadata": {},
   "source": [
    "`2.` Find:\n",
    "* What is the population mean height?  \n",
    "* What is the standard deviation of the population heights?  Create a sample set of data using the code below.  \n",
    "* What is the sample mean height?  Simulate the sampling distribution for the mean of five values to see the shape and plot a histogram. \n",
    "* What is the standard deviation of the sampling distribution of the mean of five draws? \n",
    "Use **quiz 2** below to assure your answers are correct.  "
   ]
  },
  {
   "cell_type": "code",
   "execution_count": 3,
   "metadata": {},
   "outputs": [
    {
     "data": {
      "text/plain": [
       "67.597486973079342"
      ]
     },
     "execution_count": 3,
     "metadata": {},
     "output_type": "execute_result"
    }
   ],
   "source": [
    "# population mean height \n",
    "full_data['height'].mean()"
   ]
  },
  {
   "cell_type": "code",
   "execution_count": 4,
   "metadata": {},
   "outputs": [
    {
     "data": {
      "text/plain": [
       "(array([  14.,   29.,   76.,  358.,  473.,  631.,  783.,  441.,  151.,   18.]),\n",
       " array([ 56.21949211,  58.21694752,  60.21440294,  62.21185836,\n",
       "         64.20931377,  66.20676919,  68.20422461,  70.20168002,\n",
       "         72.19913544,  74.19659086,  76.19404627]),\n",
       " <a list of 10 Patch objects>)"
      ]
     },
     "execution_count": 4,
     "metadata": {},
     "output_type": "execute_result"
    },
    {
     "data": {
      "image/png": "[encoded data removed]",
      "text/plain": [
       "<matplotlib.figure.Figure at 0x7fed2a7ad860>"
      ]
     },
     "metadata": {
      "needs_background": "light"
     },
     "output_type": "display_data"
    }
   ],
   "source": [
    "# make a histogram\n",
    "plt.hist(full_data['height'])"
   ]
  },
  {
   "cell_type": "code",
   "execution_count": 5,
   "metadata": {},
   "outputs": [
    {
     "data": {
      "text/plain": [
       "3.1189087116821459"
      ]
     },
     "execution_count": 5,
     "metadata": {},
     "output_type": "execute_result"
    }
   ],
   "source": [
    "# standard devation of the population heights\n",
    "np.std(full_data['height'])"
   ]
  },
  {
   "cell_type": "code",
   "execution_count": 6,
   "metadata": {},
   "outputs": [
    {
     "data": {
      "text/html": [
       "<div>\n",
       "<style scoped>\n",
       "    .dataframe tbody tr th:only-of-type {\n",
       "        vertical-align: middle;\n",
       "    }\n",
       "\n",
       "    .dataframe tbody tr th {\n",
       "        vertical-align: top;\n",
       "    }\n",
       "\n",
       "    .dataframe thead th {\n",
       "        text-align: right;\n",
       "    }\n",
       "</style>\n",
       "<table border=\"1\" class=\"dataframe\">\n",
       "  <thead>\n",
       "    <tr style=\"text-align: right;\">\n",
       "      <th></th>\n",
       "      <th>user_id</th>\n",
       "      <th>age</th>\n",
       "      <th>drinks_coffee</th>\n",
       "      <th>height</th>\n",
       "    </tr>\n",
       "  </thead>\n",
       "  <tbody>\n",
       "    <tr>\n",
       "      <th>2402</th>\n",
       "      <td>2874</td>\n",
       "      <td>&lt;21</td>\n",
       "      <td>True</td>\n",
       "      <td>64.357154</td>\n",
       "    </tr>\n",
       "    <tr>\n",
       "      <th>2864</th>\n",
       "      <td>3670</td>\n",
       "      <td>&gt;=21</td>\n",
       "      <td>True</td>\n",
       "      <td>66.859636</td>\n",
       "    </tr>\n",
       "    <tr>\n",
       "      <th>2167</th>\n",
       "      <td>7441</td>\n",
       "      <td>&lt;21</td>\n",
       "      <td>False</td>\n",
       "      <td>66.659561</td>\n",
       "    </tr>\n",
       "    <tr>\n",
       "      <th>507</th>\n",
       "      <td>2781</td>\n",
       "      <td>&gt;=21</td>\n",
       "      <td>True</td>\n",
       "      <td>70.166241</td>\n",
       "    </tr>\n",
       "    <tr>\n",
       "      <th>1817</th>\n",
       "      <td>2875</td>\n",
       "      <td>&gt;=21</td>\n",
       "      <td>True</td>\n",
       "      <td>71.369120</td>\n",
       "    </tr>\n",
       "  </tbody>\n",
       "</table>\n",
       "</div>"
      ],
      "text/plain": [
       "      user_id   age  drinks_coffee     height\n",
       "2402     2874   <21           True  64.357154\n",
       "2864     3670  >=21           True  66.859636\n",
       "2167     7441   <21          False  66.659561\n",
       "507      2781  >=21           True  70.166241\n",
       "1817     2875  >=21           True  71.369120"
      ]
     },
     "execution_count": 6,
     "metadata": {},
     "output_type": "execute_result"
    }
   ],
   "source": [
    "# sample\n",
    "sample1 = full_data.sample(5)\n",
    "sample1"
   ]
  },
  {
   "cell_type": "code",
   "execution_count": 7,
   "metadata": {},
   "outputs": [
    {
     "data": {
      "text/plain": [
       "67.882342520490838"
      ]
     },
     "execution_count": 7,
     "metadata": {},
     "output_type": "execute_result"
    }
   ],
   "source": [
    "# sample mean height\n",
    "sample1['height'].mean()"
   ]
  },
  {
   "cell_type": "code",
   "execution_count": 8,
   "metadata": {},
   "outputs": [
    {
     "data": {
      "text/plain": [
       "(array([   40.,   184.,   787.,  1496.,  2273.,  2369.,  1625.,   809.,\n",
       "          359.,    58.]),\n",
       " array([ 64.3571538 ,  65.05835045,  65.75954709,  66.46074374,\n",
       "         67.16194038,  67.86313703,  68.56433367,  69.26553032,\n",
       "         69.96672696,  70.66792361,  71.36912025]),\n",
       " <a list of 10 Patch objects>)"
      ]
     },
     "execution_count": 8,
     "metadata": {},
     "output_type": "execute_result"
    },
    {
     "data": {
      "image/png": "[encoded data removed]",
      "text/plain": [
       "<matplotlib.figure.Figure at 0x7fecfac0db00>"
      ]
     },
     "metadata": {
      "needs_background": "light"
     },
     "output_type": "display_data"
    }
   ],
   "source": [
    "# simulate the sampling distribution \n",
    "samples_mean5 = [] \n",
    "for _ in range(10000):\n",
    "    mean5 = sample1.sample(5, replace=True).height.mean()\n",
    "    samples_mean5.append(mean5)\n",
    "\n",
    "# show histogram\n",
    "plt.hist(samples_mean5)"
   ]
  },
  {
   "cell_type": "code",
   "execution_count": 9,
   "metadata": {},
   "outputs": [
    {
     "data": {
      "text/plain": [
       "1.141357351999374"
      ]
     },
     "execution_count": 9,
     "metadata": {},
     "output_type": "execute_result"
    }
   ],
   "source": [
    "# standard deviation of the sampling mean height\n",
    "np.std(samples_mean5)"
   ]
  },
  {
   "cell_type": "markdown",
   "metadata": {},
   "source": [
    "`3.` Using the null and alternative hypotheses set up in question 1 and the results of your sampling distribution in question 2, simulate the mean values you would expect from the null hypothesis.  Use these simulated values to determine a p-value to make a decision about your null and alternative hypotheses.  Check your solution using **quiz 3** and **quiz 4** below.\n",
    "\n",
    "**Hint:** Use the numpy documentation [here](https://docs.scipy.org/doc/numpy-1.13.0/reference/generated/numpy.random.normal.html) to assist with your solution."
   ]
  },
  {
   "cell_type": "code",
   "execution_count": 10,
   "metadata": {
    "scrolled": true
   },
   "outputs": [
    {
     "data": {
      "text/plain": [
       "<matplotlib.lines.Line2D at 0x7fecfab5e240>"
      ]
     },
     "execution_count": 10,
     "metadata": {},
     "output_type": "execute_result"
    },
    {
     "data": {
      "image/png": "[encoded data removed]",
      "text/plain": [
       "<matplotlib.figure.Figure at 0x7fecfab5e5c0>"
      ]
     },
     "metadata": {
      "needs_background": "light"
     },
     "output_type": "display_data"
    }
   ],
   "source": [
    "null_mean = full_data.height.mean()\n",
    "sampling_std_5 = np.std(samples_mean5)\n",
    "\n",
    "null_vals = np.random.normal(null_mean, sampling_std_5, 10000)\n",
    "\n",
    "plt.hist(null_vals)\n",
    "plt.axvline(x=sample1.height.mean(), color='red')"
   ]
  },
  {
   "cell_type": "code",
   "execution_count": 11,
   "metadata": {},
   "outputs": [
    {
     "data": {
      "text/plain": [
       "0.8034"
      ]
     },
     "execution_count": 11,
     "metadata": {},
     "output_type": "execute_result"
    }
   ],
   "source": [
    "# for a two sided hypothesis, we want to look at anything \n",
    "# more extreme from the null in both directions\n",
    "obs_mean = sample1.height.mean() # observed mean\n",
    "\n",
    "# probability of a statistic higher than observed\n",
    "prob_more_extreme_high = (null_vals > obs_mean).mean()\n",
    "    \n",
    "# probability a statistic is more extreme lower\n",
    "prob_more_extreme_low = (null_mean - (obs_mean - null_mean) > null_vals).mean()\n",
    "\n",
    "pval = prob_more_extreme_low + prob_more_extreme_high\n",
    "pval"
   ]
  },
  {
   "cell_type": "markdown",
   "metadata": {},
   "source": [
    "**The above shows a second possible method for obtaining the p-value. These are pretty different, stability of these values with such a small sample size is an issue. We are essentially shading outside the lines below.**"
   ]
  },
  {
   "cell_type": "code",
   "execution_count": 12,
   "metadata": {
    "scrolled": true
   },
   "outputs": [
    {
     "data": {
      "image/png": "[encoded data removed]",
      "text/plain": [
       "<matplotlib.figure.Figure at 0x7fecfaa879b0>"
      ]
     },
     "metadata": {
      "needs_background": "light"
     },
     "output_type": "display_data"
    }
   ],
   "source": [
    "upper_bound = obs_mean\n",
    "lower_bound = null_mean - (obs_mean - null_mean)\n",
    "\n",
    "plt.hist(null_vals);\n",
    "plt.axvline(x=lower_bound, color = 'red'); # where our sample mean falls on null dist\n",
    "plt.axvline(x=upper_bound, color = 'red'); # where our sample mean falls on null dist"
   ]
  },
  {
   "cell_type": "code",
   "execution_count": 13,
   "metadata": {},
   "outputs": [
    {
     "name": "stdout",
     "output_type": "stream",
     "text": [
      "67.8823425205 67.3126314257\n"
     ]
    }
   ],
   "source": [
    "print(upper_bound, lower_bound)"
   ]
  },
  {
   "cell_type": "markdown",
   "metadata": {},
   "source": [
    "`4.` Now imagine if you received the same sample mean as you calculated from the sample in question 1 above, but that you actually retrieved it from a sample of 300.  What would the new standard deviation be for your sampling distribution for the mean of 300 values?  Additionally, what would your new p-value be for choosing between the null and alternative hypotheses you set up? Simulate the sampling distribution for the mean of five values to see the shape and plot a histogram.  Use your solutions here to answer the second to last quiz question below.\n",
    "\n",
    "**Hint:**  If you get stuck, notice you can use the solution from quiz regarding finding the p-value earlier to assist with obtaining this answer with just a few small changes."
   ]
  },
  {
   "cell_type": "code",
   "execution_count": 14,
   "metadata": {},
   "outputs": [],
   "source": [
    "# 300개 값으로 이뤄진 샘플2\n",
    "sample2 = full_data.sample(300)\n",
    "\n",
    "# 샘플2에서 얻어진 키의 평균값\n",
    "obs_mean = sample2.height.mean()\n",
    "# 67.688767951038926"
   ]
  },
  {
   "cell_type": "code",
   "execution_count": 15,
   "metadata": {},
   "outputs": [
    {
     "data": {
      "text/plain": [
       "(array([   16.,   124.,   615.,  1942.,  2937.,  2695.,  1289.,   334.,\n",
       "           43.,     5.]),\n",
       " array([ 66.9998985 ,  67.14359931,  67.28730011,  67.43100091,\n",
       "         67.57470172,  67.71840252,  67.86210333,  68.00580413,\n",
       "         68.14950494,  68.29320574,  68.43690654]),\n",
       " <a list of 10 Patch objects>)"
      ]
     },
     "execution_count": 15,
     "metadata": {},
     "output_type": "execute_result"
    },
    {
     "data": {
      "image/png": "[encoded data removed]",
      "text/plain": [
       "<matplotlib.figure.Figure at 0x7fecfaa8d048>"
      ]
     },
     "metadata": {
      "needs_background": "light"
     },
     "output_type": "display_data"
    }
   ],
   "source": [
    "# simulate the sampling distribution \n",
    "samples_mean300 = [] \n",
    "for _ in range(10000):\n",
    "    mean = sample2.sample(300, replace=True).height.mean()\n",
    "    samples_mean300.append(mean)\n",
    "\n",
    "plt.hist(samples_mean300)"
   ]
  },
  {
   "cell_type": "code",
   "execution_count": 20,
   "metadata": {},
   "outputs": [
    {
     "data": {
      "text/plain": [
       "0.18108485974118899"
      ]
     },
     "execution_count": 20,
     "metadata": {},
     "output_type": "execute_result"
    }
   ],
   "source": [
    "# standard deviation of the sampling mean height\n",
    "std_sampling_dist300 = np.std(samples_mean300)    \n",
    "std_sampling_dist300"
   ]
  },
  {
   "cell_type": "code",
   "execution_count": 24,
   "metadata": {},
   "outputs": [],
   "source": [
    "# 샘플링 분포의 표준편차를 이용해 귀무가설 값을 생성 \n",
    "null_vals = np.random.normal(null_mean, std_sampling_dist300, 10000)"
   ]
  },
  {
   "cell_type": "code",
   "execution_count": 25,
   "metadata": {},
   "outputs": [
    {
     "data": {
      "image/png": "[encoded data removed]",
      "text/plain": [
       "<matplotlib.figure.Figure at 0x7fecfaa642b0>"
      ]
     },
     "metadata": {
      "needs_background": "light"
     },
     "output_type": "display_data"
    }
   ],
   "source": [
    "# 상한선 = 샘플로부터 얻어진 평균값\n",
    "upper_bound = obs_mean\n",
    "# 하한선 = 귀무가설의 평균 - (샘플의 평균 - 귀무가설의 평균)\n",
    "lower_bound = null_mean - (obs_mean - null_mean)\n",
    "\n",
    "# 히스토그램 + 상한선,하한선 표시 \n",
    "plt.hist(null_vals);\n",
    "plt.axvline(x=lower_bound, color = 'red'); # where our sample mean falls on null dist\n",
    "plt.axvline(x=upper_bound, color = 'red'); # where our sample mean falls on null dist"
   ]
  },
  {
   "cell_type": "code",
   "execution_count": 26,
   "metadata": {},
   "outputs": [
    {
     "data": {
      "text/plain": [
       "0.61539999999999995"
      ]
     },
     "execution_count": 26,
     "metadata": {},
     "output_type": "execute_result"
    }
   ],
   "source": [
    "# for a two sided hypothesis, we want to look at anything \n",
    "# more extreme from the null in both directions\n",
    "# 양측 검정의 경우, 귀무가설의 양측 방향으로 좀더 극단적인 값이 있는지를 확인하려고 한다. \n",
    "\n",
    "# probability of a statistic lower than observed\n",
    "# 하한선보다 작은 값들의 평균 \n",
    "prob_more_extreme_low = (null_vals < lower_bound).mean()\n",
    "    \n",
    "# probability a statistic is more extreme higher\n",
    "# 상한선보다 큰 값들의 평균 \n",
    "prob_more_extreme_high = (upper_bound < null_vals).mean()\n",
    "\n",
    "# p-value \n",
    "pval = prob_more_extreme_low + prob_more_extreme_high\n",
    "pval  # With such a large sample size, our sample mean that is super\n",
    "      # close will be significant at an alpha = 0.1 level."
   ]
  },
  {
   "cell_type": "markdown",
   "metadata": {},
   "source": [
    "`5.` Reflect on what happened by answering the final quiz in this concept."
   ]
  },
  {
   "cell_type": "markdown",
   "metadata": {
    "collapsed": true
   },
   "source": [
    "Even with a very small difference between a sample mean and a hypothesized population mean, the difference will end up being significant with a very large sample size."
   ]
  }
 ],
 "metadata": {
  "kernelspec": {
   "display_name": "Python 3",
   "language": "python",
   "name": "python3"
  },
  "language_info": {
   "codemirror_mode": {
    "name": "ipython",
    "version": 3
   },
   "file_extension": ".py",
   "mimetype": "text/x-python",
   "name": "python",
   "nbconvert_exporter": "python",
   "pygments_lexer": "ipython3",
   "version": "3.6.3"
  }
 },
 "nbformat": 4,
 "nbformat_minor": 2
}
