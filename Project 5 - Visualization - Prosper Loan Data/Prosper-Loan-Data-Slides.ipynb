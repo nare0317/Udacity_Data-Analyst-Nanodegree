{
 "cells": [
  {
   "cell_type": "markdown",
   "metadata": {
    "slideshow": {
     "slide_type": "slide"
    }
   },
   "source": [
    "# Part II - Prosper Loan Data Exploration\n",
    "## by Narae Im"
   ]
  },
  {
   "cell_type": "markdown",
   "metadata": {
    "slideshow": {
     "slide_type": "slide"
    }
   },
   "source": [
    "## Investigation Overview\n",
    "\n",
    "My main goal of this presentation is to figure out what features are affecting the Credit Grade(Rating) in the dataset. \n",
    "\n",
    "So I included 4 visualizations in this presentation. \n",
    "\n",
    "1) Credit Ratings by Debt To Income Ratio and Stated Monthly Income   \n",
    "2) Distribution of Income Ranges and Credit Ratings   \n",
    "3) Borrower Monthly Income across Employment Status and Credit Rating   \n",
    "4) Debt To Income Ratio across Employment Status and Credit Rating   \n",
    "\n",
    "## Dataset Overview\n",
    "\n",
    "This data set contains 113,937 loans with 81 variables on each loan, including loan amount, borrower rate (or interest rate), current loan status, borrower income, and many others."
   ]
  },
  {
   "cell_type": "code",
   "execution_count": 29,
   "metadata": {
    "slideshow": {
     "slide_type": "skip"
    }
   },
   "outputs": [],
   "source": [
    "# import all packages and set plots to be embedded inline\n",
    "import numpy as np\n",
    "import pandas as pd\n",
    "import matplotlib.pyplot as plt\n",
    "import seaborn as sb\n",
    "\n",
    "%matplotlib inline\n",
    "\n",
    "# suppress warnings from final output\n",
    "import warnings\n",
    "warnings.simplefilter(\"ignore\")"
   ]
  },
  {
   "cell_type": "code",
   "execution_count": 30,
   "metadata": {
    "slideshow": {
     "slide_type": "skip"
    }
   },
   "outputs": [
    {
     "name": "stdout",
     "output_type": "stream",
     "text": [
      "(113937, 81)\n"
     ]
    }
   ],
   "source": [
    "# load in the dataset into a pandas dataframe\n",
    "df = pd.read_csv('prosperLoanData.csv')\n",
    "\n",
    "print(df.shape)"
   ]
  },
  {
   "cell_type": "code",
   "execution_count": 31,
   "metadata": {
    "slideshow": {
     "slide_type": "skip"
    }
   },
   "outputs": [
    {
     "data": {
      "text/plain": [
       "0        2007-08-26 19:09:29.263\n",
       "1        2014-02-27 08:28:07.900\n",
       "2        2007-01-05 15:00:47.090\n",
       "3        2012-10-22 11:02:35.010\n",
       "4        2013-09-14 18:38:39.097\n",
       "                   ...          \n",
       "113932   2013-04-14 05:55:02.663\n",
       "113933   2011-11-03 20:42:55.333\n",
       "113934   2013-12-13 05:49:12.703\n",
       "113935   2011-11-14 13:18:26.597\n",
       "113936   2014-01-15 09:27:37.657\n",
       "Name: ListingCreationDate, Length: 113937, dtype: datetime64[ns]"
      ]
     },
     "execution_count": 31,
     "metadata": {},
     "output_type": "execute_result"
    }
   ],
   "source": [
    "# Convert data type of 'ListingCreationDate' from object to datetime\n",
    "pd.to_datetime(df['ListingCreationDate'])"
   ]
  },
  {
   "cell_type": "code",
   "execution_count": 32,
   "metadata": {
    "slideshow": {
     "slide_type": "skip"
    }
   },
   "outputs": [
    {
     "data": {
      "text/plain": [
       "array([False,  True, False, ...,  True,  True,  True])"
      ]
     },
     "execution_count": 32,
     "metadata": {},
     "output_type": "execute_result"
    }
   ],
   "source": [
    "pd.DatetimeIndex(df['ListingCreationDate']).year >= 2009"
   ]
  },
  {
   "cell_type": "code",
   "execution_count": 33,
   "metadata": {
    "scrolled": true,
    "slideshow": {
     "slide_type": "skip"
    }
   },
   "outputs": [
    {
     "data": {
      "text/html": [
       "<div>\n",
       "<style scoped>\n",
       "    .dataframe tbody tr th:only-of-type {\n",
       "        vertical-align: middle;\n",
       "    }\n",
       "\n",
       "    .dataframe tbody tr th {\n",
       "        vertical-align: top;\n",
       "    }\n",
       "\n",
       "    .dataframe thead th {\n",
       "        text-align: right;\n",
       "    }\n",
       "</style>\n",
       "<table border=\"1\" class=\"dataframe\">\n",
       "  <thead>\n",
       "    <tr style=\"text-align: right;\">\n",
       "      <th></th>\n",
       "      <th>ListingKey</th>\n",
       "      <th>ListingNumber</th>\n",
       "      <th>ListingCreationDate</th>\n",
       "      <th>CreditGrade</th>\n",
       "      <th>Term</th>\n",
       "      <th>LoanStatus</th>\n",
       "      <th>ClosedDate</th>\n",
       "      <th>BorrowerAPR</th>\n",
       "      <th>BorrowerRate</th>\n",
       "      <th>LenderYield</th>\n",
       "      <th>...</th>\n",
       "      <th>LP_CollectionFees</th>\n",
       "      <th>LP_GrossPrincipalLoss</th>\n",
       "      <th>LP_NetPrincipalLoss</th>\n",
       "      <th>LP_NonPrincipalRecoverypayments</th>\n",
       "      <th>PercentFunded</th>\n",
       "      <th>Recommendations</th>\n",
       "      <th>InvestmentFromFriendsCount</th>\n",
       "      <th>InvestmentFromFriendsAmount</th>\n",
       "      <th>Investors</th>\n",
       "      <th>Rating</th>\n",
       "    </tr>\n",
       "  </thead>\n",
       "  <tbody>\n",
       "    <tr>\n",
       "      <th>57164</th>\n",
       "      <td>A3373589053764674143B97</td>\n",
       "      <td>905620</td>\n",
       "      <td>2013-09-17 19:26:50.300000000</td>\n",
       "      <td>NaN</td>\n",
       "      <td>36</td>\n",
       "      <td>Completed</td>\n",
       "      <td>2013-11-15 00:00:00</td>\n",
       "      <td>0.27623</td>\n",
       "      <td>0.2379</td>\n",
       "      <td>0.2279</td>\n",
       "      <td>...</td>\n",
       "      <td>0.00</td>\n",
       "      <td>0.0</td>\n",
       "      <td>0.0</td>\n",
       "      <td>0.0</td>\n",
       "      <td>1.0</td>\n",
       "      <td>0</td>\n",
       "      <td>0</td>\n",
       "      <td>0.0</td>\n",
       "      <td>1</td>\n",
       "      <td>D</td>\n",
       "    </tr>\n",
       "    <tr>\n",
       "      <th>51068</th>\n",
       "      <td>910A3536754921464C48F24</td>\n",
       "      <td>553452</td>\n",
       "      <td>2012-01-22 19:33:00.200000000</td>\n",
       "      <td>NaN</td>\n",
       "      <td>36</td>\n",
       "      <td>Past Due (31-60 days)</td>\n",
       "      <td>NaN</td>\n",
       "      <td>0.34577</td>\n",
       "      <td>0.3058</td>\n",
       "      <td>0.2958</td>\n",
       "      <td>...</td>\n",
       "      <td>0.00</td>\n",
       "      <td>0.0</td>\n",
       "      <td>0.0</td>\n",
       "      <td>0.0</td>\n",
       "      <td>1.0</td>\n",
       "      <td>0</td>\n",
       "      <td>0</td>\n",
       "      <td>0.0</td>\n",
       "      <td>43</td>\n",
       "      <td>E</td>\n",
       "    </tr>\n",
       "    <tr>\n",
       "      <th>90333</th>\n",
       "      <td>A543337140492595489864E</td>\n",
       "      <td>48075</td>\n",
       "      <td>2006-10-13 15:30:25.413000000</td>\n",
       "      <td>D</td>\n",
       "      <td>36</td>\n",
       "      <td>Completed</td>\n",
       "      <td>2009-10-18 00:00:00</td>\n",
       "      <td>0.20735</td>\n",
       "      <td>0.2000</td>\n",
       "      <td>0.1950</td>\n",
       "      <td>...</td>\n",
       "      <td>0.00</td>\n",
       "      <td>0.0</td>\n",
       "      <td>0.0</td>\n",
       "      <td>0.0</td>\n",
       "      <td>1.0</td>\n",
       "      <td>0</td>\n",
       "      <td>0</td>\n",
       "      <td>0.0</td>\n",
       "      <td>21</td>\n",
       "      <td>D</td>\n",
       "    </tr>\n",
       "    <tr>\n",
       "      <th>36664</th>\n",
       "      <td>49A43578916228457358C1C</td>\n",
       "      <td>773718</td>\n",
       "      <td>2013-05-08 15:36:11.263000000</td>\n",
       "      <td>NaN</td>\n",
       "      <td>36</td>\n",
       "      <td>Completed</td>\n",
       "      <td>2014-01-13 00:00:00</td>\n",
       "      <td>0.25781</td>\n",
       "      <td>0.2199</td>\n",
       "      <td>0.2099</td>\n",
       "      <td>...</td>\n",
       "      <td>0.00</td>\n",
       "      <td>0.0</td>\n",
       "      <td>0.0</td>\n",
       "      <td>0.0</td>\n",
       "      <td>1.0</td>\n",
       "      <td>0</td>\n",
       "      <td>0</td>\n",
       "      <td>0.0</td>\n",
       "      <td>1</td>\n",
       "      <td>D</td>\n",
       "    </tr>\n",
       "    <tr>\n",
       "      <th>71259</th>\n",
       "      <td>3DC5352615312991569EF6E</td>\n",
       "      <td>525406</td>\n",
       "      <td>2011-09-05 18:56:20.103000000</td>\n",
       "      <td>NaN</td>\n",
       "      <td>60</td>\n",
       "      <td>Completed</td>\n",
       "      <td>2013-05-09 00:00:00</td>\n",
       "      <td>0.20436</td>\n",
       "      <td>0.1899</td>\n",
       "      <td>0.1799</td>\n",
       "      <td>...</td>\n",
       "      <td>0.00</td>\n",
       "      <td>0.0</td>\n",
       "      <td>0.0</td>\n",
       "      <td>0.0</td>\n",
       "      <td>1.0</td>\n",
       "      <td>0</td>\n",
       "      <td>0</td>\n",
       "      <td>0.0</td>\n",
       "      <td>262</td>\n",
       "      <td>B</td>\n",
       "    </tr>\n",
       "    <tr>\n",
       "      <th>51101</th>\n",
       "      <td>B6753551572761622BD207C</td>\n",
       "      <td>605151</td>\n",
       "      <td>2012-06-27 19:06:32.490000000</td>\n",
       "      <td>NaN</td>\n",
       "      <td>36</td>\n",
       "      <td>Current</td>\n",
       "      <td>NaN</td>\n",
       "      <td>0.24758</td>\n",
       "      <td>0.2099</td>\n",
       "      <td>0.1999</td>\n",
       "      <td>...</td>\n",
       "      <td>-768.47</td>\n",
       "      <td>0.0</td>\n",
       "      <td>0.0</td>\n",
       "      <td>0.0</td>\n",
       "      <td>1.0</td>\n",
       "      <td>0</td>\n",
       "      <td>0</td>\n",
       "      <td>0.0</td>\n",
       "      <td>283</td>\n",
       "      <td>C</td>\n",
       "    </tr>\n",
       "    <tr>\n",
       "      <th>93788</th>\n",
       "      <td>64F33596313929515DD8D90</td>\n",
       "      <td>1038932</td>\n",
       "      <td>2013-11-29 20:23:46.117000000</td>\n",
       "      <td>NaN</td>\n",
       "      <td>36</td>\n",
       "      <td>Current</td>\n",
       "      <td>NaN</td>\n",
       "      <td>0.13189</td>\n",
       "      <td>0.1039</td>\n",
       "      <td>0.0939</td>\n",
       "      <td>...</td>\n",
       "      <td>0.00</td>\n",
       "      <td>0.0</td>\n",
       "      <td>0.0</td>\n",
       "      <td>0.0</td>\n",
       "      <td>1.0</td>\n",
       "      <td>1</td>\n",
       "      <td>0</td>\n",
       "      <td>0.0</td>\n",
       "      <td>1</td>\n",
       "      <td>A</td>\n",
       "    </tr>\n",
       "    <tr>\n",
       "      <th>14708</th>\n",
       "      <td>E9453603718031514C22557</td>\n",
       "      <td>1188802</td>\n",
       "      <td>2014-03-01 17:35:18.860000000</td>\n",
       "      <td>NaN</td>\n",
       "      <td>36</td>\n",
       "      <td>Current</td>\n",
       "      <td>NaN</td>\n",
       "      <td>0.19029</td>\n",
       "      <td>0.1535</td>\n",
       "      <td>0.1435</td>\n",
       "      <td>...</td>\n",
       "      <td>0.00</td>\n",
       "      <td>0.0</td>\n",
       "      <td>0.0</td>\n",
       "      <td>0.0</td>\n",
       "      <td>1.0</td>\n",
       "      <td>0</td>\n",
       "      <td>0</td>\n",
       "      <td>0.0</td>\n",
       "      <td>1</td>\n",
       "      <td>C</td>\n",
       "    </tr>\n",
       "    <tr>\n",
       "      <th>36823</th>\n",
       "      <td>7C253365601576223B6F553</td>\n",
       "      <td>15114</td>\n",
       "      <td>2006-05-22 18:57:42.083000000</td>\n",
       "      <td>AA</td>\n",
       "      <td>36</td>\n",
       "      <td>Completed</td>\n",
       "      <td>2009-06-05 00:00:00</td>\n",
       "      <td>0.09437</td>\n",
       "      <td>0.0875</td>\n",
       "      <td>0.0825</td>\n",
       "      <td>...</td>\n",
       "      <td>0.00</td>\n",
       "      <td>0.0</td>\n",
       "      <td>0.0</td>\n",
       "      <td>0.0</td>\n",
       "      <td>1.0</td>\n",
       "      <td>0</td>\n",
       "      <td>0</td>\n",
       "      <td>0.0</td>\n",
       "      <td>23</td>\n",
       "      <td>AA</td>\n",
       "    </tr>\n",
       "    <tr>\n",
       "      <th>11436</th>\n",
       "      <td>5DCF3540239472167DDC415</td>\n",
       "      <td>563515</td>\n",
       "      <td>2012-02-28 06:19:02.017000000</td>\n",
       "      <td>NaN</td>\n",
       "      <td>36</td>\n",
       "      <td>Completed</td>\n",
       "      <td>2013-11-20 00:00:00</td>\n",
       "      <td>0.35797</td>\n",
       "      <td>0.3177</td>\n",
       "      <td>0.3077</td>\n",
       "      <td>...</td>\n",
       "      <td>0.00</td>\n",
       "      <td>0.0</td>\n",
       "      <td>0.0</td>\n",
       "      <td>0.0</td>\n",
       "      <td>1.0</td>\n",
       "      <td>0</td>\n",
       "      <td>0</td>\n",
       "      <td>0.0</td>\n",
       "      <td>73</td>\n",
       "      <td>HR</td>\n",
       "    </tr>\n",
       "  </tbody>\n",
       "</table>\n",
       "<p>10 rows × 82 columns</p>\n",
       "</div>"
      ],
      "text/plain": [
       "                    ListingKey  ListingNumber            ListingCreationDate  \\\n",
       "57164  A3373589053764674143B97         905620  2013-09-17 19:26:50.300000000   \n",
       "51068  910A3536754921464C48F24         553452  2012-01-22 19:33:00.200000000   \n",
       "90333  A543337140492595489864E          48075  2006-10-13 15:30:25.413000000   \n",
       "36664  49A43578916228457358C1C         773718  2013-05-08 15:36:11.263000000   \n",
       "71259  3DC5352615312991569EF6E         525406  2011-09-05 18:56:20.103000000   \n",
       "51101  B6753551572761622BD207C         605151  2012-06-27 19:06:32.490000000   \n",
       "93788  64F33596313929515DD8D90        1038932  2013-11-29 20:23:46.117000000   \n",
       "14708  E9453603718031514C22557        1188802  2014-03-01 17:35:18.860000000   \n",
       "36823  7C253365601576223B6F553          15114  2006-05-22 18:57:42.083000000   \n",
       "11436  5DCF3540239472167DDC415         563515  2012-02-28 06:19:02.017000000   \n",
       "\n",
       "      CreditGrade  Term             LoanStatus           ClosedDate  \\\n",
       "57164         NaN    36              Completed  2013-11-15 00:00:00   \n",
       "51068         NaN    36  Past Due (31-60 days)                  NaN   \n",
       "90333           D    36              Completed  2009-10-18 00:00:00   \n",
       "36664         NaN    36              Completed  2014-01-13 00:00:00   \n",
       "71259         NaN    60              Completed  2013-05-09 00:00:00   \n",
       "51101         NaN    36                Current                  NaN   \n",
       "93788         NaN    36                Current                  NaN   \n",
       "14708         NaN    36                Current                  NaN   \n",
       "36823          AA    36              Completed  2009-06-05 00:00:00   \n",
       "11436         NaN    36              Completed  2013-11-20 00:00:00   \n",
       "\n",
       "       BorrowerAPR  BorrowerRate  LenderYield  ...  LP_CollectionFees  \\\n",
       "57164      0.27623        0.2379       0.2279  ...               0.00   \n",
       "51068      0.34577        0.3058       0.2958  ...               0.00   \n",
       "90333      0.20735        0.2000       0.1950  ...               0.00   \n",
       "36664      0.25781        0.2199       0.2099  ...               0.00   \n",
       "71259      0.20436        0.1899       0.1799  ...               0.00   \n",
       "51101      0.24758        0.2099       0.1999  ...            -768.47   \n",
       "93788      0.13189        0.1039       0.0939  ...               0.00   \n",
       "14708      0.19029        0.1535       0.1435  ...               0.00   \n",
       "36823      0.09437        0.0875       0.0825  ...               0.00   \n",
       "11436      0.35797        0.3177       0.3077  ...               0.00   \n",
       "\n",
       "       LP_GrossPrincipalLoss  LP_NetPrincipalLoss  \\\n",
       "57164                    0.0                  0.0   \n",
       "51068                    0.0                  0.0   \n",
       "90333                    0.0                  0.0   \n",
       "36664                    0.0                  0.0   \n",
       "71259                    0.0                  0.0   \n",
       "51101                    0.0                  0.0   \n",
       "93788                    0.0                  0.0   \n",
       "14708                    0.0                  0.0   \n",
       "36823                    0.0                  0.0   \n",
       "11436                    0.0                  0.0   \n",
       "\n",
       "       LP_NonPrincipalRecoverypayments PercentFunded  Recommendations  \\\n",
       "57164                              0.0           1.0                0   \n",
       "51068                              0.0           1.0                0   \n",
       "90333                              0.0           1.0                0   \n",
       "36664                              0.0           1.0                0   \n",
       "71259                              0.0           1.0                0   \n",
       "51101                              0.0           1.0                0   \n",
       "93788                              0.0           1.0                1   \n",
       "14708                              0.0           1.0                0   \n",
       "36823                              0.0           1.0                0   \n",
       "11436                              0.0           1.0                0   \n",
       "\n",
       "       InvestmentFromFriendsCount InvestmentFromFriendsAmount Investors Rating  \n",
       "57164                           0                         0.0         1      D  \n",
       "51068                           0                         0.0        43      E  \n",
       "90333                           0                         0.0        21      D  \n",
       "36664                           0                         0.0         1      D  \n",
       "71259                           0                         0.0       262      B  \n",
       "51101                           0                         0.0       283      C  \n",
       "93788                           0                         0.0         1      A  \n",
       "14708                           0                         0.0         1      C  \n",
       "36823                           0                         0.0        23     AA  \n",
       "11436                           0                         0.0        73     HR  \n",
       "\n",
       "[10 rows x 82 columns]"
      ]
     },
     "execution_count": 33,
     "metadata": {},
     "output_type": "execute_result"
    }
   ],
   "source": [
    "# merge CreditGrade and ProsperRating (Alpha) columns into one column \"Rating\"\n",
    "def RatingSelect(df):\n",
    "    if pd.DatetimeIndex(df[['ListingCreationDate']]).year < 2009 :\n",
    "        return df['CreditGrade']\n",
    "    elif pd.DatetimeIndex(df[['ListingCreationDate']]).year >= 2009 : \n",
    "        return df['ProsperRating (Alpha)']\n",
    "    else:\n",
    "        return '' \n",
    "\n",
    "df['Rating'] = df.apply(RatingSelect, axis=1)\n",
    "df.sample(10)"
   ]
  },
  {
   "cell_type": "code",
   "execution_count": 34,
   "metadata": {
    "slideshow": {
     "slide_type": "skip"
    }
   },
   "outputs": [
    {
     "data": {
      "text/plain": [
       "C     23989\n",
       "B     19967\n",
       "D     19425\n",
       "A     17864\n",
       "E     13084\n",
       "HR    10443\n",
       "AA     8880\n",
       "NC      141\n",
       "Name: Rating, dtype: int64"
      ]
     },
     "execution_count": 34,
     "metadata": {},
     "output_type": "execute_result"
    }
   ],
   "source": [
    "# unique values of 'rating'\n",
    "df['Rating'].value_counts()"
   ]
  },
  {
   "cell_type": "code",
   "execution_count": 35,
   "metadata": {
    "slideshow": {
     "slide_type": "skip"
    }
   },
   "outputs": [],
   "source": [
    "# Convert 'Rating' into ordered categorical types\n",
    "rating_order = ['NC', 'HR', 'E', 'D', 'C', 'B', 'A', 'AA']\n",
    "ordered_rating = pd.api.types.CategoricalDtype(ordered=True, categories=rating_order)\n",
    "df['Rating'] = df['Rating'].astype(ordered_rating)"
   ]
  },
  {
   "cell_type": "code",
   "execution_count": 36,
   "metadata": {
    "slideshow": {
     "slide_type": "skip"
    }
   },
   "outputs": [],
   "source": [
    "# change column name \n",
    "df.rename({'ProsperRating (numeric)': 'Rating(numeric)'}, axis=1, inplace=True)"
   ]
  },
  {
   "cell_type": "code",
   "execution_count": 37,
   "metadata": {
    "scrolled": true,
    "slideshow": {
     "slide_type": "skip"
    }
   },
   "outputs": [],
   "source": [
    "# drop duplicated data \n",
    "df = df.drop_duplicates()"
   ]
  },
  {
   "cell_type": "code",
   "execution_count": 38,
   "metadata": {
    "slideshow": {
     "slide_type": "skip"
    }
   },
   "outputs": [],
   "source": [
    "# change column name \n",
    "df.rename({'TradesNeverDelinquent (percentage)': 'TradesNeverDelinquent'}, axis=1, inplace=True)"
   ]
  },
  {
   "cell_type": "code",
   "execution_count": 39,
   "metadata": {
    "slideshow": {
     "slide_type": "skip"
    }
   },
   "outputs": [
    {
     "data": {
      "text/html": [
       "<div>\n",
       "<style scoped>\n",
       "    .dataframe tbody tr th:only-of-type {\n",
       "        vertical-align: middle;\n",
       "    }\n",
       "\n",
       "    .dataframe tbody tr th {\n",
       "        vertical-align: top;\n",
       "    }\n",
       "\n",
       "    .dataframe thead th {\n",
       "        text-align: right;\n",
       "    }\n",
       "</style>\n",
       "<table border=\"1\" class=\"dataframe\">\n",
       "  <thead>\n",
       "    <tr style=\"text-align: right;\">\n",
       "      <th></th>\n",
       "      <th>LoanKey</th>\n",
       "      <th>Rating(numeric)</th>\n",
       "      <th>Rating</th>\n",
       "      <th>BorrowerRate</th>\n",
       "      <th>BorrowerState</th>\n",
       "      <th>Occupation</th>\n",
       "      <th>EmploymentStatus</th>\n",
       "      <th>IsBorrowerHomeowner</th>\n",
       "      <th>CreditScoreRangeLower</th>\n",
       "      <th>CreditScoreRangeUpper</th>\n",
       "      <th>TradesNeverDelinquent</th>\n",
       "      <th>AmountDelinquent</th>\n",
       "      <th>DebtToIncomeRatio</th>\n",
       "      <th>IncomeRange</th>\n",
       "      <th>StatedMonthlyIncome</th>\n",
       "      <th>LoanOriginalAmount</th>\n",
       "    </tr>\n",
       "  </thead>\n",
       "  <tbody>\n",
       "    <tr>\n",
       "      <th>0</th>\n",
       "      <td>E33A3400205839220442E84</td>\n",
       "      <td>NaN</td>\n",
       "      <td>C</td>\n",
       "      <td>0.1580</td>\n",
       "      <td>CO</td>\n",
       "      <td>Other</td>\n",
       "      <td>Self-employed</td>\n",
       "      <td>True</td>\n",
       "      <td>640.0</td>\n",
       "      <td>659.0</td>\n",
       "      <td>0.81</td>\n",
       "      <td>472.0</td>\n",
       "      <td>0.17</td>\n",
       "      <td>$25,000-49,999</td>\n",
       "      <td>3083.333333</td>\n",
       "      <td>9425</td>\n",
       "    </tr>\n",
       "    <tr>\n",
       "      <th>1</th>\n",
       "      <td>9E3B37071505919926B1D82</td>\n",
       "      <td>6.0</td>\n",
       "      <td>A</td>\n",
       "      <td>0.0920</td>\n",
       "      <td>CO</td>\n",
       "      <td>Professional</td>\n",
       "      <td>Employed</td>\n",
       "      <td>False</td>\n",
       "      <td>680.0</td>\n",
       "      <td>699.0</td>\n",
       "      <td>1.00</td>\n",
       "      <td>0.0</td>\n",
       "      <td>0.18</td>\n",
       "      <td>$50,000-74,999</td>\n",
       "      <td>6125.000000</td>\n",
       "      <td>10000</td>\n",
       "    </tr>\n",
       "    <tr>\n",
       "      <th>2</th>\n",
       "      <td>6954337960046817851BCB2</td>\n",
       "      <td>NaN</td>\n",
       "      <td>HR</td>\n",
       "      <td>0.2750</td>\n",
       "      <td>GA</td>\n",
       "      <td>Other</td>\n",
       "      <td>Not available</td>\n",
       "      <td>False</td>\n",
       "      <td>480.0</td>\n",
       "      <td>499.0</td>\n",
       "      <td>NaN</td>\n",
       "      <td>NaN</td>\n",
       "      <td>0.06</td>\n",
       "      <td>Not displayed</td>\n",
       "      <td>2083.333333</td>\n",
       "      <td>3001</td>\n",
       "    </tr>\n",
       "    <tr>\n",
       "      <th>3</th>\n",
       "      <td>A0393664465886295619C51</td>\n",
       "      <td>6.0</td>\n",
       "      <td>A</td>\n",
       "      <td>0.0974</td>\n",
       "      <td>GA</td>\n",
       "      <td>Skilled Labor</td>\n",
       "      <td>Employed</td>\n",
       "      <td>True</td>\n",
       "      <td>800.0</td>\n",
       "      <td>819.0</td>\n",
       "      <td>0.76</td>\n",
       "      <td>10056.0</td>\n",
       "      <td>0.15</td>\n",
       "      <td>$25,000-49,999</td>\n",
       "      <td>2875.000000</td>\n",
       "      <td>10000</td>\n",
       "    </tr>\n",
       "    <tr>\n",
       "      <th>4</th>\n",
       "      <td>A180369302188889200689E</td>\n",
       "      <td>3.0</td>\n",
       "      <td>D</td>\n",
       "      <td>0.2085</td>\n",
       "      <td>MN</td>\n",
       "      <td>Executive</td>\n",
       "      <td>Employed</td>\n",
       "      <td>True</td>\n",
       "      <td>680.0</td>\n",
       "      <td>699.0</td>\n",
       "      <td>0.95</td>\n",
       "      <td>0.0</td>\n",
       "      <td>0.26</td>\n",
       "      <td>$100,000+</td>\n",
       "      <td>9583.333333</td>\n",
       "      <td>15000</td>\n",
       "    </tr>\n",
       "    <tr>\n",
       "      <th>5</th>\n",
       "      <td>C3D63702273952547E79520</td>\n",
       "      <td>5.0</td>\n",
       "      <td>B</td>\n",
       "      <td>0.1314</td>\n",
       "      <td>NM</td>\n",
       "      <td>Professional</td>\n",
       "      <td>Employed</td>\n",
       "      <td>True</td>\n",
       "      <td>740.0</td>\n",
       "      <td>759.0</td>\n",
       "      <td>1.00</td>\n",
       "      <td>0.0</td>\n",
       "      <td>0.36</td>\n",
       "      <td>$100,000+</td>\n",
       "      <td>8333.333333</td>\n",
       "      <td>15000</td>\n",
       "    </tr>\n",
       "    <tr>\n",
       "      <th>6</th>\n",
       "      <td>CE963680102927767790520</td>\n",
       "      <td>2.0</td>\n",
       "      <td>E</td>\n",
       "      <td>0.2712</td>\n",
       "      <td>KS</td>\n",
       "      <td>Sales - Retail</td>\n",
       "      <td>Employed</td>\n",
       "      <td>False</td>\n",
       "      <td>680.0</td>\n",
       "      <td>699.0</td>\n",
       "      <td>0.68</td>\n",
       "      <td>0.0</td>\n",
       "      <td>0.27</td>\n",
       "      <td>$25,000-49,999</td>\n",
       "      <td>2083.333333</td>\n",
       "      <td>3000</td>\n",
       "    </tr>\n",
       "    <tr>\n",
       "      <th>7</th>\n",
       "      <td>0C87368108902149313D53B</td>\n",
       "      <td>4.0</td>\n",
       "      <td>C</td>\n",
       "      <td>0.2019</td>\n",
       "      <td>CA</td>\n",
       "      <td>Laborer</td>\n",
       "      <td>Employed</td>\n",
       "      <td>False</td>\n",
       "      <td>700.0</td>\n",
       "      <td>719.0</td>\n",
       "      <td>0.80</td>\n",
       "      <td>0.0</td>\n",
       "      <td>0.24</td>\n",
       "      <td>$25,000-49,999</td>\n",
       "      <td>3355.750000</td>\n",
       "      <td>10000</td>\n",
       "    </tr>\n",
       "    <tr>\n",
       "      <th>8</th>\n",
       "      <td>02163700809231365A56A1C</td>\n",
       "      <td>7.0</td>\n",
       "      <td>AA</td>\n",
       "      <td>0.0629</td>\n",
       "      <td>IL</td>\n",
       "      <td>Food Service</td>\n",
       "      <td>Employed</td>\n",
       "      <td>True</td>\n",
       "      <td>820.0</td>\n",
       "      <td>839.0</td>\n",
       "      <td>1.00</td>\n",
       "      <td>0.0</td>\n",
       "      <td>0.25</td>\n",
       "      <td>$25,000-49,999</td>\n",
       "      <td>3333.333333</td>\n",
       "      <td>10000</td>\n",
       "    </tr>\n",
       "    <tr>\n",
       "      <th>9</th>\n",
       "      <td>02163700809231365A56A1C</td>\n",
       "      <td>7.0</td>\n",
       "      <td>AA</td>\n",
       "      <td>0.0629</td>\n",
       "      <td>IL</td>\n",
       "      <td>Food Service</td>\n",
       "      <td>Employed</td>\n",
       "      <td>True</td>\n",
       "      <td>820.0</td>\n",
       "      <td>839.0</td>\n",
       "      <td>1.00</td>\n",
       "      <td>0.0</td>\n",
       "      <td>0.25</td>\n",
       "      <td>$25,000-49,999</td>\n",
       "      <td>3333.333333</td>\n",
       "      <td>10000</td>\n",
       "    </tr>\n",
       "  </tbody>\n",
       "</table>\n",
       "</div>"
      ],
      "text/plain": [
       "                   LoanKey  Rating(numeric) Rating  BorrowerRate  \\\n",
       "0  E33A3400205839220442E84              NaN      C        0.1580   \n",
       "1  9E3B37071505919926B1D82              6.0      A        0.0920   \n",
       "2  6954337960046817851BCB2              NaN     HR        0.2750   \n",
       "3  A0393664465886295619C51              6.0      A        0.0974   \n",
       "4  A180369302188889200689E              3.0      D        0.2085   \n",
       "5  C3D63702273952547E79520              5.0      B        0.1314   \n",
       "6  CE963680102927767790520              2.0      E        0.2712   \n",
       "7  0C87368108902149313D53B              4.0      C        0.2019   \n",
       "8  02163700809231365A56A1C              7.0     AA        0.0629   \n",
       "9  02163700809231365A56A1C              7.0     AA        0.0629   \n",
       "\n",
       "  BorrowerState      Occupation EmploymentStatus  IsBorrowerHomeowner  \\\n",
       "0            CO           Other    Self-employed                 True   \n",
       "1            CO    Professional         Employed                False   \n",
       "2            GA           Other    Not available                False   \n",
       "3            GA   Skilled Labor         Employed                 True   \n",
       "4            MN       Executive         Employed                 True   \n",
       "5            NM    Professional         Employed                 True   \n",
       "6            KS  Sales - Retail         Employed                False   \n",
       "7            CA         Laborer         Employed                False   \n",
       "8            IL    Food Service         Employed                 True   \n",
       "9            IL    Food Service         Employed                 True   \n",
       "\n",
       "   CreditScoreRangeLower  CreditScoreRangeUpper  TradesNeverDelinquent  \\\n",
       "0                  640.0                  659.0                   0.81   \n",
       "1                  680.0                  699.0                   1.00   \n",
       "2                  480.0                  499.0                    NaN   \n",
       "3                  800.0                  819.0                   0.76   \n",
       "4                  680.0                  699.0                   0.95   \n",
       "5                  740.0                  759.0                   1.00   \n",
       "6                  680.0                  699.0                   0.68   \n",
       "7                  700.0                  719.0                   0.80   \n",
       "8                  820.0                  839.0                   1.00   \n",
       "9                  820.0                  839.0                   1.00   \n",
       "\n",
       "   AmountDelinquent  DebtToIncomeRatio     IncomeRange  StatedMonthlyIncome  \\\n",
       "0             472.0               0.17  $25,000-49,999          3083.333333   \n",
       "1               0.0               0.18  $50,000-74,999          6125.000000   \n",
       "2               NaN               0.06   Not displayed          2083.333333   \n",
       "3           10056.0               0.15  $25,000-49,999          2875.000000   \n",
       "4               0.0               0.26       $100,000+          9583.333333   \n",
       "5               0.0               0.36       $100,000+          8333.333333   \n",
       "6               0.0               0.27  $25,000-49,999          2083.333333   \n",
       "7               0.0               0.24  $25,000-49,999          3355.750000   \n",
       "8               0.0               0.25  $25,000-49,999          3333.333333   \n",
       "9               0.0               0.25  $25,000-49,999          3333.333333   \n",
       "\n",
       "   LoanOriginalAmount  \n",
       "0                9425  \n",
       "1               10000  \n",
       "2                3001  \n",
       "3               10000  \n",
       "4               15000  \n",
       "5               15000  \n",
       "6                3000  \n",
       "7               10000  \n",
       "8               10000  \n",
       "9               10000  "
      ]
     },
     "execution_count": 39,
     "metadata": {},
     "output_type": "execute_result"
    }
   ],
   "source": [
    "df_origin = df.copy()\n",
    "df = df[['LoanKey', 'Rating(numeric)', 'Rating', 'BorrowerRate', \n",
    "         'BorrowerState', 'Occupation', 'EmploymentStatus', 'IsBorrowerHomeowner',\n",
    "         'CreditScoreRangeLower', 'CreditScoreRangeUpper', 'TradesNeverDelinquent', 'AmountDelinquent',\n",
    "         'DebtToIncomeRatio', 'IncomeRange','StatedMonthlyIncome', 'LoanOriginalAmount'\n",
    "         ]]\n",
    "df.head(10)"
   ]
  },
  {
   "cell_type": "markdown",
   "metadata": {
    "slideshow": {
     "slide_type": "slide"
    }
   },
   "source": [
    "## Credit Ratings by Debt To Income Ratio and Stated Monthly Income\n",
    "\n",
    "1) Credit Ratings by Debt To Income Ratio (Left)\n",
    "The boundary of Debt To Income Ratio is getting smaller as Rating increases. We can see that with \"AA\" Rating, the Debt To Income Ratio is between 0 - 0.45, whereas with \"HR\" Rating, the ratio is from 0 - 0.7.   \n",
    "\n",
    "\n",
    "2) Credit Ratings by Stated Monthly Income (Right)\n",
    "As Rating increases, Stated Monthly Income ($) is also increasing. The median value is not significantly different among Rating, but the overall income range differs. For example, in \"HR\" rating, the monthly income range is from 0 to 10000 whereas in \"AA\", the income range is 0 to 16000.\n",
    "\n",
    "I can guess that as Debt to Income Ratio decreases, the loan amount compared to income decreases, so the rating score for the loan increases. Also as income increases, the ability to pay the loan also increases, so the rating score for the loan also increases.\n",
    "\n",
    "In the first boxplot, it's interesting to see that the width and whiskers of the boxplots shrink as credit rating increases. This suggests that with high rating, the ratio of debt to income is smaller than the low rating. Also in the second boxplot, the opposite pattern is shown. As rating increses, the width and whisker of the boxplots expands. That means that it is more likely to have higher monthly income with greater credit rating."
   ]
  },
  {
   "cell_type": "code",
   "execution_count": 40,
   "metadata": {
    "slideshow": {
     "slide_type": "subslide"
    }
   },
   "outputs": [
    {
     "data": {
      "image/png": "[encoded data removed]",
      "text/plain": [
       "<Figure size 1080x360 with 2 Axes>"
      ]
     },
     "metadata": {
      "needs_background": "light"
     },
     "output_type": "display_data"
    }
   ],
   "source": [
    "# box plot\n",
    "plt.figure(figsize = [15, 5])\n",
    "\n",
    "plt.subplot(1, 2, 1)\n",
    "base_color = sb.color_palette()[0]\n",
    "sb.boxplot(data = df, y = 'DebtToIncomeRatio', x = 'Rating', palette = \"Blues_r\", showfliers = False)\n",
    "plt.ylabel('Debt To Income Ratio')\n",
    "plt.xlabel('Rating')\n",
    "\n",
    "plt.subplot(1, 2, 2)\n",
    "base_color = sb.color_palette()[0]\n",
    "sb.boxplot(data = df, y = 'StatedMonthlyIncome', x = 'Rating', palette = \"Blues_r\", showfliers = False)\n",
    "plt.ylabel('Stated Monthly Income ($)')\n",
    "plt.xlabel('Rating')\n",
    "\n",
    "plt.suptitle('Credit Ratings by Debt To Income Ratio and Stated Monthly Income');"
   ]
  },
  {
   "cell_type": "code",
   "execution_count": 41,
   "metadata": {
    "slideshow": {
     "slide_type": "skip"
    }
   },
   "outputs": [],
   "source": [
    "# Convert 'EmploymentStatus' into ordered categorical types\n",
    "employmentstatus_order = ['Not Available', 'Not Employed', 'Other', 'Part-time', 'Self-employed', 'Employed', 'Full-time', 'Retired']\n",
    "ordered_employmentstatus = pd.api.types.CategoricalDtype(ordered=True, categories=employmentstatus_order)\n",
    "df['EmploymentStatus'] = df['EmploymentStatus'].astype(ordered_employmentstatus)"
   ]
  },
  {
   "cell_type": "markdown",
   "metadata": {
    "slideshow": {
     "slide_type": "slide"
    }
   },
   "source": [
    "## Distribution of Income Ranges and Credit Ratings\n",
    "\n",
    "In below clustered bar chart, we can see the higher incomes correlate to a higher credit rating. \n",
    "\n",
    "For example, in income range of \\\\$1 - 24,999, the lower rating(\"NC\", \"HR\") is relatively more frequent than the higer ratings(\"A\", \"AA\"). On the contrary, in a range of \\\\$75,000+, the higer ratings(\"A\", \"AA\") is more frequent than the lower rating(\"NC\", \"HR\") in proportion.\n",
    "\n",
    "However, interesting point is that the higher income does not always mean the greatest proportion of higher rating. If you see below bar chart, actually the greatest proportion of higher ratings(\"A\", \"AA\") is shown in the income range of \\\\$25,000 - \\\\$74,999. I guess that the result is attributed to the fact that the absolute number of data in those income range is a lot. "
   ]
  },
  {
   "cell_type": "code",
   "execution_count": 42,
   "metadata": {
    "slideshow": {
     "slide_type": "skip"
    }
   },
   "outputs": [],
   "source": [
    "# replace \"Not Employed\" as \"$0\"\n",
    "df['IncomeRange'].replace(['Not employed'], '$0', inplace = True)\n",
    "\n",
    "income_range = ['Not displayed','$0','$1-24,999', '$25,000-49,999', '$50,000-74,999', '$75,000-99,999', '$100,000+']\n",
    "ordered_income = pd.api.types.CategoricalDtype(ordered = True, categories = income_range)\n",
    "df['IncomeRange'] = df['IncomeRange'].astype(ordered_income)"
   ]
  },
  {
   "cell_type": "code",
   "execution_count": 43,
   "metadata": {
    "slideshow": {
     "slide_type": "subslide"
    }
   },
   "outputs": [
    {
     "data": {
      "image/png": "[encoded data removed]",
      "text/plain": [
       "<Figure size 720x576 with 1 Axes>"
      ]
     },
     "metadata": {
      "needs_background": "light"
     },
     "output_type": "display_data"
    }
   ],
   "source": [
    "# clustered bar chart\n",
    "plt.figure(figsize = [10,8])\n",
    "\n",
    "ax = sb.countplot(data = df, y = 'IncomeRange', hue = 'Rating',\n",
    "                   palette = 'Blues_r')\n",
    "\n",
    "ax.legend(title = 'Rating')\n",
    "plt.title('Distribution of Income Ranges and Credit Ratings')\n",
    "plt.ylabel('Borrower Income Range');"
   ]
  },
  {
   "cell_type": "markdown",
   "metadata": {
    "collapsed": true,
    "slideshow": {
     "slide_type": "slide"
    }
   },
   "source": [
    "## Borrower Monthly Income across Employment Status and Rating\n",
    "\n",
    "As shown in below plot, employment status has differences among ratings.   \n",
    "\n",
    "In higer rating, such as \"AA\" and \"A\", \"Retired\" and \"Full time\" status were frequent, whereas in lower rating, such as \"HR\" and \"E\", \"Part time\" status was most frequent. I can guess that this trendency came from the general concept that more employment stability can guarantee the higher ability of repaying the loan.\n",
    "\n",
    "Also, if you see the relationship with stated monthly income($) and Employment status, in more stable employment status such as \"Full time\" and \"Employed\" has higher monthly income, whereas in less stable employment status such as \"Part-time\" and \"Other\", the monthly income was low.\n",
    "\n",
    "Interesting point was that the borrowers who are in \"Self-employed\" status, credit rating was relatively low despite of the fact that the stated monthly income was very high."
   ]
  },
  {
   "cell_type": "code",
   "execution_count": 44,
   "metadata": {
    "slideshow": {
     "slide_type": "subslide"
    }
   },
   "outputs": [
    {
     "data": {
      "image/png": "[encoded data removed]",
      "text/plain": [
       "<Figure size 720x576 with 1 Axes>"
      ]
     },
     "metadata": {
      "needs_background": "light"
     },
     "output_type": "display_data"
    }
   ],
   "source": [
    "fig = plt.figure(figsize = [10,8])\n",
    "ax = sb.pointplot(data = df, x = 'Rating', y = 'StatedMonthlyIncome', hue = 'EmploymentStatus',\n",
    "           palette = 'Blues', linestyles = '', dodge = 0.4)\n",
    "plt.title('Borrower Monthly Income($) across Employment Status and Rating')\n",
    "plt.ylabel('Stated Monthly Income ($)')\n",
    "plt.show();"
   ]
  },
  {
   "cell_type": "markdown",
   "metadata": {
    "slideshow": {
     "slide_type": "slide"
    }
   },
   "source": [
    "## Debt To Income Ratio across Employment Status and Rating\n",
    "\n",
    "In the below plot, I looked into Debt To Income Ratio across Employment Status and Rating.\n",
    "\n",
    "Similarly to the previous plot, as the rating increases, the employment status were more stable. \"Retired\" and \"Full time\" status was more frequent in higher ratings, whereas \"Part-time\" and \"Other\" status was more frequent in lower ratings.\n",
    "\n",
    "In debt to Income Ratio, significant diffrence between rating was not found, but among the employment status, normally less stable status such as \"Part-time\" and \"Self-employed\" has higer debt to income ratio. On the other way, in more stable employment status such as \"Full-time\" and \"Employed\", the debt to income ratio was relatively low."
   ]
  },
  {
   "cell_type": "code",
   "execution_count": 45,
   "metadata": {
    "slideshow": {
     "slide_type": "subslide"
    }
   },
   "outputs": [
    {
     "data": {
      "image/png": "[encoded data removed]",
      "text/plain": [
       "<Figure size 864x576 with 1 Axes>"
      ]
     },
     "metadata": {
      "needs_background": "light"
     },
     "output_type": "display_data"
    }
   ],
   "source": [
    "fig = plt.figure(figsize = [12,8])\n",
    "ax = sb.pointplot(data = df, x = 'Rating', y = 'DebtToIncomeRatio', hue = 'EmploymentStatus',\n",
    "           palette = 'Greens', linestyles = '', dodge = 0.4)\n",
    "plt.title('Debt To Income Ratio across Employment Status and Rating')\n",
    "plt.ylabel('Debt To Income Ratio')\n",
    "plt.show();"
   ]
  },
  {
   "cell_type": "markdown",
   "metadata": {
    "slideshow": {
     "slide_type": "skip"
    }
   },
   "source": [
    "### Generate Slideshow\n",
    "Once you're ready to generate your slideshow, use the `jupyter nbconvert` command to generate the HTML slide show.  "
   ]
  },
  {
   "cell_type": "code",
   "execution_count": null,
   "metadata": {
    "slideshow": {
     "slide_type": "skip"
    }
   },
   "outputs": [],
   "source": [
    "# Use this command if you are running this file in local\n",
    "!jupyter nbconvert Prosper-Loan-Data-Slides.ipynb --to slides --post serve --no-input --no-prompt"
   ]
  },
  {
   "cell_type": "markdown",
   "metadata": {
    "slideshow": {
     "slide_type": "skip"
    }
   },
   "source": [
    "> In the classroom workspace, the generated HTML slideshow will be placed in the home folder. \n",
    "\n",
    "> In local machines, the command above should open a tab in your web browser where you can scroll through your presentation. Sub-slides can be accessed by pressing 'down' when viewing its parent slide. Make sure you remove all of the quote-formatted guide notes like this one before you finish your presentation! At last, you can stop the Kernel. "
   ]
  },
  {
   "cell_type": "markdown",
   "metadata": {
    "slideshow": {
     "slide_type": "skip"
    }
   },
   "source": [
    "### Submission\n",
    "If you are using classroom workspace, you can choose from the following two ways of submission:\n",
    "\n",
    "1. **Submit from the workspace**. Make sure you have removed the example project from the /home/workspace directory. You must submit the following files:\n",
    "   - Part_I_notebook.ipynb\n",
    "   - Part_I_notebook.html or pdf\n",
    "   - Part_II_notebook.ipynb\n",
    "   - Part_I_slides.html\n",
    "   - README.md\n",
    "   - dataset (optional)\n",
    "\n",
    "\n",
    "2. **Submit a zip file on the last page of this project lesson**. In this case, open the Jupyter terminal and run the command below to generate a ZIP file. \n",
    "```bash\n",
    "zip -r my_project.zip .\n",
    "```\n",
    "The command abobve will ZIP every file present in your /home/workspace directory. Next, you can download the zip to your local, and follow the instructions on the last page of this project lesson.\n"
   ]
  }
 ],
 "metadata": {
  "celltoolbar": "Slideshow",
  "kernelspec": {
   "display_name": "Python 3 (ipykernel)",
   "language": "python",
   "name": "python3"
  },
  "language_info": {
   "codemirror_mode": {
    "name": "ipython",
    "version": 3
   },
   "file_extension": ".py",
   "mimetype": "text/x-python",
   "name": "python",
   "nbconvert_exporter": "python",
   "pygments_lexer": "ipython3",
   "version": "3.9.7"
  }
 },
 "nbformat": 4,
 "nbformat_minor": 2
}
